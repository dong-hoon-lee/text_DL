{
 "cells": [
  {
   "cell_type": "code",
   "execution_count": 1,
   "metadata": {},
   "outputs": [],
   "source": [
    "import pandas as pd\n",
    "import torch\n",
    "from tqdm import tqdm, tqdm_notebook\n",
    "from transformers import PreTrainedTokenizerFast\n",
    "from transformers import BartForConditionalGeneration\n",
    "\n",
    "import FinanceDataReader as fdr\n",
    "from sklearn.metrics import f1_score"
   ]
  },
  {
   "cell_type": "code",
   "execution_count": 2,
   "metadata": {},
   "outputs": [],
   "source": [
    "start_date = '2022-01-01'\n",
    "end_date = '2022-12-31'\n",
    "\n",
    "stocks = {'apple':'AAPL',\n",
    "          'tesla':'TSLA',\n",
    "          'google':'GOOG',\n",
    "          'kakao':'035720',\n",
    "          'samsung':'005930'}"
   ]
  },
  {
   "cell_type": "code",
   "execution_count": 3,
   "metadata": {},
   "outputs": [],
   "source": [
    "def get_close(code:str, start_date:str, end_date:str):\n",
    "    prev_close = fdr.DataReader(code, '2021-12-31', '2021-12-31')\n",
    "    prev_close = prev_close['Close'][0]\n",
    "    \n",
    "    change_proportions = []\n",
    "    \n",
    "    data = fdr.DataReader(code, start_date, end_date)\n",
    "    change_proportions.append(\n",
    "        (data['Close'][0] - prev_close) / data['Close'][0]\n",
    "    )\n",
    "    for i in range(len(data)-1):\n",
    "        r = (data['Close'][i+1] - data['Close'][i]) / data['Close'][i+1]\n",
    "        change_proportions.append(r)\n",
    "        \n",
    "    data['Change'] = change_proportions\n",
    "    data.reset_index(inplace=True)\n",
    "    return data"
   ]
  },
  {
   "cell_type": "code",
   "execution_count": 4,
   "metadata": {},
   "outputs": [],
   "source": [
    "apple = get_close(stocks['apple'], start_date, end_date)\n",
    "tesla = get_close(stocks['tesla'], start_date, end_date)\n",
    "google = get_close(stocks['google'], start_date, end_date)\n",
    "samsung = fdr.DataReader(stocks['samsung'], start_date, end_date).reset_index()\n",
    "kakao = fdr.DataReader(stocks['kakao'], start_date, end_date).reset_index()"
   ]
  },
  {
   "cell_type": "code",
   "execution_count": 5,
   "metadata": {},
   "outputs": [],
   "source": [
    "def get_label(df):\n",
    "    t = []\n",
    "    t_2 = []\n",
    "    for change in df['Change']:\n",
    "        if change > 0.01:\n",
    "            t.append(0)\n",
    "            t_2.append('up')\n",
    "        elif change < -0.01:\n",
    "            t.append(1)\n",
    "            t_2.append('down')\n",
    "        else:\n",
    "            t.append(2)\n",
    "            t_2.append('same')\n",
    "            \n",
    "    df['label_desc'] = t_2\n",
    "    df['label'] = t\n",
    "    \n",
    "    return df"
   ]
  },
  {
   "cell_type": "code",
   "execution_count": 6,
   "metadata": {},
   "outputs": [],
   "source": [
    "apple = get_label(apple)\n",
    "tesla = get_label(tesla)\n",
    "google = get_label(google)\n",
    "samsung = get_label(samsung)\n",
    "kakao = get_label(kakao)"
   ]
  },
  {
   "cell_type": "code",
   "execution_count": 7,
   "metadata": {},
   "outputs": [],
   "source": [
    "columns = ['Date', 'Close', 'label_desc', 'label']\n",
    "apple = apple[columns].astype({'Date':str})\n",
    "tesla = tesla[columns].astype({'Date':str})\n",
    "google = google[columns].astype({'Date':str})\n",
    "samsung = samsung[columns].astype({'Date':str})\n",
    "kakao = kakao[columns].astype({'Date':str})"
   ]
  },
  {
   "cell_type": "code",
   "execution_count": 8,
   "metadata": {},
   "outputs": [],
   "source": [
    "df = pd.read_pickle('./data/data_11_12.p')"
   ]
  },
  {
   "cell_type": "code",
   "execution_count": 9,
   "metadata": {},
   "outputs": [],
   "source": [
    "tmp = []\n",
    "for date in df['date']:\n",
    "    tmp.append(date.split(' ')[0])\n",
    "    \n",
    "df['date'] = tmp"
   ]
  },
  {
   "cell_type": "code",
   "execution_count": 10,
   "metadata": {},
   "outputs": [],
   "source": [
    "news_apple = df[df['name']=='애플'].rename(columns={'date':'Date'})\n",
    "news_tesla = df[df['name']=='테슬라'].rename(columns={'date':'Date'})\n",
    "news_google = df[df['name']=='구글'].rename(columns={'date':'Date'})\n",
    "news_samsung = df[df['name']=='삼성'].rename(columns={'date':'Date'})\n",
    "news_kakao = df[df['name']=='카카오'].rename(columns={'date':'Date'})"
   ]
  },
  {
   "cell_type": "code",
   "execution_count": 11,
   "metadata": {},
   "outputs": [],
   "source": [
    "news_apple = news_apple[['Date', 'content']]\n",
    "news_tesla = news_tesla[['Date', 'content']]\n",
    "news_google = news_google[['Date', 'content']]\n",
    "news_samsung = news_samsung[['Date', 'content']]\n",
    "news_kakao = news_kakao[['Date', 'content']]"
   ]
  },
  {
   "cell_type": "code",
   "execution_count": 12,
   "metadata": {},
   "outputs": [],
   "source": [
    "apple_join = pd.merge(apple, news_apple, on='Date')\n",
    "tesla_join = pd.merge(tesla, news_tesla, on='Date')\n",
    "google_join = pd.merge(google, news_google, on='Date')\n",
    "samsung_join = pd.merge(samsung, news_samsung, on='Date')\n",
    "kakao_join = pd.merge(kakao, news_kakao, on='Date')"
   ]
  },
  {
   "cell_type": "code",
   "execution_count": 13,
   "metadata": {},
   "outputs": [
    {
     "data": {
      "text/html": [
       "<div>\n",
       "<style scoped>\n",
       "    .dataframe tbody tr th:only-of-type {\n",
       "        vertical-align: middle;\n",
       "    }\n",
       "\n",
       "    .dataframe tbody tr th {\n",
       "        vertical-align: top;\n",
       "    }\n",
       "\n",
       "    .dataframe thead th {\n",
       "        text-align: right;\n",
       "    }\n",
       "</style>\n",
       "<table border=\"1\" class=\"dataframe\">\n",
       "  <thead>\n",
       "    <tr style=\"text-align: right;\">\n",
       "      <th></th>\n",
       "      <th>Date</th>\n",
       "      <th>Close</th>\n",
       "      <th>label_desc</th>\n",
       "      <th>label</th>\n",
       "      <th>content</th>\n",
       "    </tr>\n",
       "  </thead>\n",
       "  <tbody>\n",
       "    <tr>\n",
       "      <th>0</th>\n",
       "      <td>2022-11-01</td>\n",
       "      <td>150.649994</td>\n",
       "      <td>down</td>\n",
       "      <td>1</td>\n",
       "      <td>[윤구 대표 돌연 사임 후 1년 만에 공석 채워美 해군사관학교 출신 반도체 장비 전...</td>\n",
       "    </tr>\n",
       "    <tr>\n",
       "      <th>1</th>\n",
       "      <td>2022-11-01</td>\n",
       "      <td>150.649994</td>\n",
       "      <td>down</td>\n",
       "      <td>1</td>\n",
       "      <td>[온라인 스토어·정보시스템 부문 담당 부사장 잇따라 사임최근 한 달새 애플의 고위 ...</td>\n",
       "    </tr>\n",
       "    <tr>\n",
       "      <th>2</th>\n",
       "      <td>2022-11-01</td>\n",
       "      <td>150.649994</td>\n",
       "      <td>down</td>\n",
       "      <td>1</td>\n",
       "      <td>[ *재판매 및 DB 금지[서울=뉴시스] 남정현 기자 = 카카오페이 측이 애플페이의...</td>\n",
       "    </tr>\n",
       "    <tr>\n",
       "      <th>3</th>\n",
       "      <td>2022-11-01</td>\n",
       "      <td>150.649994</td>\n",
       "      <td>down</td>\n",
       "      <td>1</td>\n",
       "      <td>[중국 허난성 정저우시 폭스콘 노동자들로 추정되는 이들이 공장을 떠나 고속도로를 걸...</td>\n",
       "    </tr>\n",
       "    <tr>\n",
       "      <th>4</th>\n",
       "      <td>2022-11-01</td>\n",
       "      <td>150.649994</td>\n",
       "      <td>down</td>\n",
       "      <td>1</td>\n",
       "      <td>[공장 노동자들이 폐쇄된 출입문을 뚫고 쏟아져 나갑니다.일부는 외곽 철조망을 넘습니...</td>\n",
       "    </tr>\n",
       "    <tr>\n",
       "      <th>...</th>\n",
       "      <td>...</td>\n",
       "      <td>...</td>\n",
       "      <td>...</td>\n",
       "      <td>...</td>\n",
       "      <td>...</td>\n",
       "    </tr>\n",
       "    <tr>\n",
       "      <th>976</th>\n",
       "      <td>2022-12-16</td>\n",
       "      <td>54400.000000</td>\n",
       "      <td>down</td>\n",
       "      <td>1</td>\n",
       "      <td>[싱가포르의 테슬라 서비스 센터 전경./사진=로이터 미국 전기차 기업 테슬라 주가가...</td>\n",
       "    </tr>\n",
       "    <tr>\n",
       "      <th>977</th>\n",
       "      <td>2022-12-16</td>\n",
       "      <td>54400.000000</td>\n",
       "      <td>down</td>\n",
       "      <td>1</td>\n",
       "      <td>[캐시 우드 아크인베스트먼트 최고경영자(CEO)가 미국 전기차업체 테슬라 주식을 집...</td>\n",
       "    </tr>\n",
       "    <tr>\n",
       "      <th>978</th>\n",
       "      <td>2022-12-16</td>\n",
       "      <td>54400.000000</td>\n",
       "      <td>down</td>\n",
       "      <td>1</td>\n",
       "      <td>[ 7일(현지시간) 태국 방콕의 테슬라 공식 출시 행사장에 테슬라 모델 Y가 검은 ...</td>\n",
       "    </tr>\n",
       "    <tr>\n",
       "      <th>979</th>\n",
       "      <td>2022-12-16</td>\n",
       "      <td>54400.000000</td>\n",
       "      <td>down</td>\n",
       "      <td>1</td>\n",
       "      <td>[일론 머스크 잇단 주식 매각에 주가 ‘반 토막’“수익성‧성장성 변화 없어…사업영역...</td>\n",
       "    </tr>\n",
       "    <tr>\n",
       "      <th>980</th>\n",
       "      <td>2022-12-16</td>\n",
       "      <td>54400.000000</td>\n",
       "      <td>down</td>\n",
       "      <td>1</td>\n",
       "      <td>[사진=연합뉴스, 방콕 로이터테슬라가 멕시코에 새로운 기가팩토리를 건설하는 것이 확...</td>\n",
       "    </tr>\n",
       "  </tbody>\n",
       "</table>\n",
       "<p>981 rows × 5 columns</p>\n",
       "</div>"
      ],
      "text/plain": [
       "           Date         Close label_desc  label  \\\n",
       "0    2022-11-01    150.649994       down      1   \n",
       "1    2022-11-01    150.649994       down      1   \n",
       "2    2022-11-01    150.649994       down      1   \n",
       "3    2022-11-01    150.649994       down      1   \n",
       "4    2022-11-01    150.649994       down      1   \n",
       "..          ...           ...        ...    ...   \n",
       "976  2022-12-16  54400.000000       down      1   \n",
       "977  2022-12-16  54400.000000       down      1   \n",
       "978  2022-12-16  54400.000000       down      1   \n",
       "979  2022-12-16  54400.000000       down      1   \n",
       "980  2022-12-16  54400.000000       down      1   \n",
       "\n",
       "                                               content  \n",
       "0    [윤구 대표 돌연 사임 후 1년 만에 공석 채워美 해군사관학교 출신 반도체 장비 전...  \n",
       "1    [온라인 스토어·정보시스템 부문 담당 부사장 잇따라 사임최근 한 달새 애플의 고위 ...  \n",
       "2    [ *재판매 및 DB 금지[서울=뉴시스] 남정현 기자 = 카카오페이 측이 애플페이의...  \n",
       "3    [중국 허난성 정저우시 폭스콘 노동자들로 추정되는 이들이 공장을 떠나 고속도로를 걸...  \n",
       "4    [공장 노동자들이 폐쇄된 출입문을 뚫고 쏟아져 나갑니다.일부는 외곽 철조망을 넘습니...  \n",
       "..                                                 ...  \n",
       "976  [싱가포르의 테슬라 서비스 센터 전경./사진=로이터 미국 전기차 기업 테슬라 주가가...  \n",
       "977  [캐시 우드 아크인베스트먼트 최고경영자(CEO)가 미국 전기차업체 테슬라 주식을 집...  \n",
       "978  [ 7일(현지시간) 태국 방콕의 테슬라 공식 출시 행사장에 테슬라 모델 Y가 검은 ...  \n",
       "979  [일론 머스크 잇단 주식 매각에 주가 ‘반 토막’“수익성‧성장성 변화 없어…사업영역...  \n",
       "980  [사진=연합뉴스, 방콕 로이터테슬라가 멕시코에 새로운 기가팩토리를 건설하는 것이 확...  \n",
       "\n",
       "[981 rows x 5 columns]"
      ]
     },
     "execution_count": 13,
     "metadata": {},
     "output_type": "execute_result"
    }
   ],
   "source": [
    "df_list = [apple_join, tesla_join, google_join, samsung_join, kakao_join]\n",
    "df_final = pd.concat(df_list, ignore_index=True)\n",
    "df_final"
   ]
  },
  {
   "cell_type": "code",
   "execution_count": 14,
   "metadata": {},
   "outputs": [
    {
     "name": "stderr",
     "output_type": "stream",
     "text": [
      "You passed along `num_labels=3` with an incompatible id to label map: {'0': 'NEGATIVE', '1': 'POSITIVE'}. The number of labels wil be overwritten to 2.\n"
     ]
    }
   ],
   "source": [
    "summ_tokenizer = PreTrainedTokenizerFast.from_pretrained('digit82/kobart-summarization')\n",
    "summ_model = BartForConditionalGeneration.from_pretrained('digit82/kobart-summarization')"
   ]
  },
  {
   "cell_type": "code",
   "execution_count": 15,
   "metadata": {},
   "outputs": [],
   "source": [
    "def get_summary(df):\n",
    "    summaries = []\n",
    "    for content in tqdm(df['content']):\n",
    "        txt = content.replace('[', '').replace(']', '').replace('=', '')\n",
    "        raw_input_ids = summ_tokenizer.encode(txt)\n",
    "        \n",
    "        input_ids = [summ_tokenizer.bos_token_id] + raw_input_ids + [summ_tokenizer.eos_token_id]\n",
    "        # input_ids = raw_input_ids + [summ_tokenizer.eos_token_id]\n",
    "        # print(input_ids)\n",
    "        if len(input_ids) > 800:\n",
    "            input_ids = input_ids[:800]\n",
    "        \n",
    "        \n",
    "        with torch.no_grad():\n",
    "            summ_ids = summ_model.generate(torch.tensor([input_ids]), num_beams=4, max_length=1024, eos_token_id=1)\n",
    "            summ = summ_tokenizer.decode(summ_ids.squeeze().tolist(), skip_special_tokens=True)\n",
    "        summaries.append(summ)\n",
    "        \n",
    "    df['summary'] = summaries\n",
    "    return df"
   ]
  },
  {
   "cell_type": "code",
   "execution_count": 16,
   "metadata": {},
   "outputs": [
    {
     "name": "stderr",
     "output_type": "stream",
     "text": [
      "100%|██████████| 981/981 [41:23<00:00,  2.53s/it]  \n"
     ]
    }
   ],
   "source": [
    "df_summ = get_summary(df_final)"
   ]
  },
  {
   "cell_type": "code",
   "execution_count": 17,
   "metadata": {},
   "outputs": [
    {
     "data": {
      "text/plain": [
       "'경기 불황으로 부품사들이 줄줄이 3분기 어닝쇼크를 기록했지만 애플을 최대 고객사로 두고 있는 삼성디스플레이와 LG이노텍은 오히려 최대 분기 실적을 기록하며 애플에 OLED(유기발광다이오드)디스플레이 패널을, LG이노텍은 카메라모듈을 공급했다.'"
      ]
     },
     "execution_count": 17,
     "metadata": {},
     "output_type": "execute_result"
    }
   ],
   "source": [
    "df_summ['summary'][7]"
   ]
  },
  {
   "cell_type": "code",
   "execution_count": 18,
   "metadata": {},
   "outputs": [
    {
     "data": {
      "text/plain": [
       "'[전세계를 덮친 경기 불황으로 부품사들이 줄줄이 3분기 어닝쇼크를 기록했지만 애플이 깔아둔 \\'꽃길\\'은 견고했다. 애플을 최대 고객사로 두고 있는 삼성디스플레이와 LG이노텍은 오히려 최대 분기 실적을 기록했다. 삼성디스플레이는 애플에 OLED(유기발광다이오드)디스플레이 패널을, LG이노텍은 카메라모듈을 공급한다.1일 업계에 따르면 삼성디스플레이와 LG이노텍 모두 올해 3분기 영업이익이 지난해 같은 기간과 비교해 30% 넘게 증가했다. 삼성디스플레이의 영업이익은 32.9% 늘어난 1조9800억원, LG이노텍은 32.5% 늘어 3357억원을 기록했다.  애플이 지난 9월 출시한 스마트폰 신제품인 아이폰 14 시리즈가 두 회사의 실적 호조를 견인했다. 경기 침체와 물가 상승에 따라 IT(정보기술)제품 수요가 특히 줄었지만 애플은 예외였다. 소비가 줄어들면서 미들엔드 스마트폰 시장은 직격탄을 받았지만 하이엔드 스마트폰 인기는 유지됐다. 특히 애플 스마트폰은 단순한 전자기기를 뛰어넘어 일종의 명품으로 자리잡으면서 경기 불황에 영향을 크게 받지 않았다는 분석이다. 자국 브랜드를 애용하는 중국 스마트폰 시장에서도 애플 점유율은 15%가 넘는다.삼성디스플레이는 아이폰 14와 프로, 맥스, 프로맥스 등 모든 14시리즈에 OLED 패널을 공급한다. LG디스플레이와 중국의 BOE도 아이폰용 OLED 패널을 공급하지만 삼성디스플레이 비중이 70%에 달한다. 특히 LG디스플레이가 아이폰 14시리즈에 공급하는 LTPO(저온다결정산화물)기술을 적용한 디스플레이가 다소 지연되면서 출시 초기 공급 모델에서 삼성디스플레이가 LTPO 디스플레이를 대부분 공급한 점도 호재로 작용했다. 애플은 고급 모델에 LPTO OLED를 사용하는데, 기존 OLED보다 화면이 더 부드럽고 배터리 성능이 더 효율적이지만 가격이 더 비싸다. 삼성전자가 폴더블폰 신제품인 플립4와 폴드4를 내놓은 것도 삼성디스플레이에 긍정적 영향을 줬다. 삼성디스플레이는 \"스마트폰 신제품 출시에 따른 수요 증가에 더불어 고객사 신제품 내 점유율 증가로 중소형 실적이 대폭 늘었다\"고 설명했다.카메라모듈을 공급하는 LG이노텍도 애플의 수혜를 받았다. 특히 신제품의 카메라화소가 기존보다 상향되면서 카메라모듈의 평균판매가격(ASP)이 오른 것 역시 영업이익에 덕이 됐다. LG이노텍의 애플 스마트폰 카메라모듈 점유율은 70%에 달한다. LG이노텍 관계자는 3분기 실적 호조를 두고 \"고객사 신모델향 공급이 본격화하면서 스마트폰용 고성능 카메라모듈 공급이 늘어나 실적을 이끌었다\"고 설명했다. 카메라모듈을 담당하는 LG이노텍의 광학솔루션 사업부는 전체 매출의 80%를 담당한다. LG이노텍은 올해 초 광학솔루션 사업부에만 설비투자 금액으로 1조561억원을 투자하겠다고 밝혔는데, 단일 사업부에 1조원 이상을 투자한 것은 처음이다. ]'"
      ]
     },
     "execution_count": 18,
     "metadata": {},
     "output_type": "execute_result"
    }
   ],
   "source": [
    "df_summ['content'][7]"
   ]
  },
  {
   "cell_type": "code",
   "execution_count": 69,
   "metadata": {},
   "outputs": [],
   "source": [
    "import torch\n",
    "from torch import nn\n",
    "import torch.nn.functional as F\n",
    "import torch.optim as optim\n",
    "from torch.utils.data import Dataset, DataLoader\n",
    "import gluonnlp as nlp\n",
    "import numpy as np\n",
    "\n",
    "import os\n",
    "\n",
    "from kobert.utils import get_tokenizer\n",
    "from kobert.pytorch_kobert import get_pytorch_kobert_model\n",
    "\n",
    "from transformers import AdamW\n",
    "from transformers.optimization import get_cosine_schedule_with_warmup\n",
    "\n",
    "from sklearn.model_selection import train_test_split"
   ]
  },
  {
   "cell_type": "code",
   "execution_count": 90,
   "metadata": {},
   "outputs": [],
   "source": [
    "device = torch.device('cpu')"
   ]
  },
  {
   "cell_type": "code",
   "execution_count": 91,
   "metadata": {},
   "outputs": [
    {
     "name": "stdout",
     "output_type": "stream",
     "text": [
      "using cached model. /home/hoon/classification/.cache/kobert_v1.zip\n",
      "using cached model. /home/hoon/classification/.cache/kobert_news_wiki_ko_cased-1087f8699e.spiece\n",
      "using cached model. /home/hoon/classification/.cache/kobert_news_wiki_ko_cased-1087f8699e.spiece\n"
     ]
    }
   ],
   "source": [
    "bertmodel, vocab = get_pytorch_kobert_model()\n",
    "tokenizer = get_tokenizer()\n",
    "tok = nlp.data.BERTSPTokenizer(tokenizer, vocab, lower=False)"
   ]
  },
  {
   "cell_type": "code",
   "execution_count": 92,
   "metadata": {},
   "outputs": [],
   "source": [
    "'''\n",
    "maximum length of contents = 6303\n",
    "'''\n",
    "\n",
    "config = {\n",
    "    'max_len':64,\n",
    "    'batch_size':64,\n",
    "    'warmup_ratio':0.1,\n",
    "    'num_epochs':25,\n",
    "    'max_grad_norm':1,\n",
    "    'log_interval':200,\n",
    "    'dr_rate':0.1,\n",
    "    'lr':5e-5\n",
    "}"
   ]
  },
  {
   "cell_type": "code",
   "execution_count": 93,
   "metadata": {},
   "outputs": [],
   "source": [
    "class BERTDataset(Dataset):\n",
    "    def __init__(self, dataset, sent_idx, label_idx, bert_tokenizer, max_len, pad, pair):\n",
    "        transform = nlp.data.BERTSentenceTransform(\n",
    "            bert_tokenizer, max_seq_length=max_len, pad=pad, pair=pair\n",
    "        )\n",
    "        \n",
    "        self.sentences = [transform([i[sent_idx]]) for i in dataset]\n",
    "        self.labels = [np.int32(i[label_idx]) for i in dataset]\n",
    "        \n",
    "    def __getitem__(self, i):\n",
    "        return (self.sentences[i] + (self.labels[i], ))\n",
    "    \n",
    "    def __len__(self):\n",
    "        return (len(self.labels))"
   ]
  },
  {
   "cell_type": "code",
   "execution_count": 111,
   "metadata": {},
   "outputs": [],
   "source": [
    "df_train = df_summ[['summary', 'label']].values"
   ]
  },
  {
   "cell_type": "code",
   "execution_count": 112,
   "metadata": {},
   "outputs": [],
   "source": [
    "df_train, df_test = train_test_split(df_train, test_size=0.2, shuffle=True)"
   ]
  },
  {
   "cell_type": "code",
   "execution_count": 113,
   "metadata": {},
   "outputs": [],
   "source": [
    "train_dataset = BERTDataset(df_train, 0, 1, tok, config['max_len'], True, False)\n",
    "test_dataset = BERTDataset(df_test, 0, 1, tok, config['max_len'], True, False)"
   ]
  },
  {
   "cell_type": "code",
   "execution_count": 114,
   "metadata": {},
   "outputs": [
    {
     "data": {
      "text/plain": [
       "(array([   2, 3969, 5436,  693,  264,  311,  307,  693,  264,  311,  307,\n",
       "        7495, 7495, 6964, 3332, 6078,  839, 7147, 4675, 7706, 6040, 6664,\n",
       "        5026,  712, 3647, 7753, 4640,  517,  498,  517, 5330, 4304,  533,\n",
       "        7028,  543, 7126, 2724, 3963, 3538, 2476, 5468,  843, 2632, 1050,\n",
       "        6079, 4451, 7018, 7248, 7075,  529, 5712, 1946, 4092, 6286, 5808,\n",
       "        2482, 6079, 1734, 6572, 5782,  517,   54,    3,    1], dtype=int32),\n",
       " array(63, dtype=int32),\n",
       " array([0, 0, 0, 0, 0, 0, 0, 0, 0, 0, 0, 0, 0, 0, 0, 0, 0, 0, 0, 0, 0, 0,\n",
       "        0, 0, 0, 0, 0, 0, 0, 0, 0, 0, 0, 0, 0, 0, 0, 0, 0, 0, 0, 0, 0, 0,\n",
       "        0, 0, 0, 0, 0, 0, 0, 0, 0, 0, 0, 0, 0, 0, 0, 0, 0, 0, 0, 0],\n",
       "       dtype=int32),\n",
       " 2)"
      ]
     },
     "execution_count": 114,
     "metadata": {},
     "output_type": "execute_result"
    }
   ],
   "source": [
    "train_dataset[0]"
   ]
  },
  {
   "cell_type": "code",
   "execution_count": 115,
   "metadata": {},
   "outputs": [],
   "source": [
    "train_dataloader = torch.utils.data.DataLoader(train_dataset,\n",
    "                                               batch_size=config['batch_size'],\n",
    "                                               num_workers=4,\n",
    "                                               shuffle=True)\n",
    "test_dataloader = torch.utils.data.DataLoader(test_dataset,\n",
    "                                              batch_size=config['batch_size'],\n",
    "                                              num_workers=4,\n",
    "                                              shuffle=True)"
   ]
  },
  {
   "cell_type": "code",
   "execution_count": 116,
   "metadata": {},
   "outputs": [
    {
     "data": {
      "text/plain": [
       "<torch.utils.data.dataloader.DataLoader at 0x7f23db285d90>"
      ]
     },
     "execution_count": 116,
     "metadata": {},
     "output_type": "execute_result"
    }
   ],
   "source": [
    "train_dataloader"
   ]
  },
  {
   "cell_type": "code",
   "execution_count": 117,
   "metadata": {},
   "outputs": [],
   "source": [
    "class BERT_Classifier(nn.Module):\n",
    "    def __init__(self, bert_model, hidden_size=768, num_classes=3, dr_rate=config['dr_rate'], params=None):\n",
    "        super(BERT_Classifier, self).__init__()\n",
    "        self.bert_model = bert_model\n",
    "        self.dr_rate = dr_rate\n",
    "        \n",
    "        self.classifier = nn.Linear(hidden_size, num_classes)\n",
    "        self.dropout = nn.Dropout(p=dr_rate)\n",
    "        \n",
    "    def gen_attn_mask(self, token_ids, valid_len):\n",
    "        attention_mask = torch.zeros_like(token_ids)\n",
    "        for i, v in enumerate(valid_len):\n",
    "            attention_mask[i][:v] = 1\n",
    "        return attention_mask.float()\n",
    "    \n",
    "    def forward(self, token_ids, valid_len, segment_ids):\n",
    "        attention_mask = self.gen_attn_mask(token_ids, valid_len)\n",
    "        _, pooler = self.bert_model(input_ids=token_ids,\n",
    "                                    token_type_ids=segment_ids.long(),\n",
    "                                    attention_mask=attention_mask.float().to(token_ids.device),\n",
    "                                    return_dict=False)\n",
    "        \n",
    "        out = self.dropout(pooler)\n",
    "        return self.classifier(out)"
   ]
  },
  {
   "cell_type": "code",
   "execution_count": 118,
   "metadata": {},
   "outputs": [],
   "source": [
    "model = BERT_Classifier(bert_model=bertmodel).to(device)"
   ]
  },
  {
   "cell_type": "code",
   "execution_count": 119,
   "metadata": {},
   "outputs": [],
   "source": [
    "no_decay = ['bias', 'LayerNorm.weight']\n",
    "optimizer_grouped_parameters = [\n",
    "    {'params': [p for n, p in model.named_parameters() if not any(nd in n for nd in no_decay)], 'weight_decay': 0.01},\n",
    "    {'params': [p for n, p in model.named_parameters() if any(nd in n for nd in no_decay)], 'weight_decay': 0.0}\n",
    "]"
   ]
  },
  {
   "cell_type": "code",
   "execution_count": 120,
   "metadata": {},
   "outputs": [
    {
     "name": "stderr",
     "output_type": "stream",
     "text": [
      "/home/hoon/.conda/envs/sibal/lib/python3.9/site-packages/transformers/optimization.py:306: FutureWarning: This implementation of AdamW is deprecated and will be removed in a future version. Use the PyTorch implementation torch.optim.AdamW instead, or set `no_deprecation_warning=True` to disable this warning\n",
      "  warnings.warn(\n"
     ]
    }
   ],
   "source": [
    "optimizer = AdamW(optimizer_grouped_parameters, lr=config['lr'])\n",
    "loss_fn = nn.CrossEntropyLoss()"
   ]
  },
  {
   "cell_type": "code",
   "execution_count": 121,
   "metadata": {},
   "outputs": [],
   "source": [
    "t_total = len(train_dataloader) * config['num_epochs']\n",
    "warmup_step = int(t_total * config['warmup_ratio'])"
   ]
  },
  {
   "cell_type": "code",
   "execution_count": 122,
   "metadata": {},
   "outputs": [],
   "source": [
    "scheduler = get_cosine_schedule_with_warmup(optimizer, num_warmup_steps=warmup_step, num_training_steps=t_total)"
   ]
  },
  {
   "cell_type": "code",
   "execution_count": 123,
   "metadata": {},
   "outputs": [],
   "source": [
    "def calc_accuracy(X,Y):\n",
    "    max_vals, max_indices = torch.max(X, 1)\n",
    "    train_acc = (max_indices == Y).sum().data.cpu().numpy()/max_indices.size()[0]\n",
    "    return train_acc"
   ]
  },
  {
   "cell_type": "code",
   "execution_count": 124,
   "metadata": {},
   "outputs": [],
   "source": [
    "def calc_f1(X, Y):\n",
    "    f1 = f1_score(Y, X)\n",
    "    return f1"
   ]
  },
  {
   "cell_type": "code",
   "execution_count": 125,
   "metadata": {},
   "outputs": [
    {
     "name": "stdout",
     "output_type": "stream",
     "text": [
      "huggingface/tokenizers: The current process just got forked, after parallelism has already been used. Disabling parallelism to avoid deadlocks...\n",
      "To disable this warning, you can either:\n",
      "\t- Avoid using `tokenizers` before the fork if possible\n",
      "\t- Explicitly set the environment variable TOKENIZERS_PARALLELISM=(true | false)\n",
      "huggingface/tokenizers: The current process just got forked, after parallelism has already been used. Disabling parallelism to avoid deadlocks...\n",
      "To disable this warning, you can either:\n",
      "\t- Avoid using `tokenizers` before the fork if possible\n",
      "\t- Explicitly set the environment variable TOKENIZERS_PARALLELISM=(true | false)\n",
      "huggingface/tokenizers: The current process just got forked, after parallelism has already been used. Disabling parallelism to avoid deadlocks...\n",
      "To disable this warning, you can either:\n",
      "\t- Avoid using `tokenizers` before the fork if possible\n",
      "\t- Explicitly set the environment variable TOKENIZERS_PARALLELISM=(true | false)\n",
      "huggingface/tokenizers: The current process just got forked, after parallelism has already been used. Disabling parallelism to avoid deadlocks...\n",
      "To disable this warning, you can either:\n",
      "\t- Avoid using `tokenizers` before the fork if possible\n",
      "\t- Explicitly set the environment variable TOKENIZERS_PARALLELISM=(true | false)\n",
      "epoch: 0 | train_acc: 0.34375\n",
      "epoch: 0 | train_acc: 0.359375\n",
      "epoch: 0 | train_acc: 0.3541666666666667\n",
      "epoch: 0 | train_acc: 0.34765625\n",
      "epoch: 0 | train_acc: 0.34375\n",
      "epoch: 0 | train_acc: 0.34375\n",
      "epoch: 0 | train_acc: 0.3482142857142857\n",
      "epoch: 0 | train_acc: 0.34765625\n",
      "epoch: 0 | train_acc: 0.3559027777777778\n",
      "epoch: 0 | train_acc: 0.3734375\n",
      "epoch: 0 | train_acc: 0.3664772727272727\n",
      "epoch: 0 | train_acc: 0.3619791666666667\n",
      "To disable this warning, you can either:\n",
      "\t- Avoid using `tokenizers` before the fork if possible\n",
      "\t- Explicitly set the environment variable TOKENIZERS_PARALLELISM=(true | false)\n",
      "epoch: 0 | train_acc: 0.37740384615384615\n"
     ]
    },
    {
     "name": "stderr",
     "output_type": "stream",
     "text": [
      "/tmp/ipykernel_2837/1357812306.py:25: TqdmDeprecationWarning: This function will be removed in tqdm==5.0.0\n",
      "Please use `tqdm.notebook.tqdm` instead of `tqdm.tqdm_notebook`\n",
      "  for batch_id, (token_ids, valid_length, segment_ids, label) in enumerate(tqdm_notebook(test_dataloader)):\n"
     ]
    },
    {
     "data": {
      "application/vnd.jupyter.widget-view+json": {
       "model_id": "362d09b4c1e141acaa4fa1055f52fe44",
       "version_major": 2,
       "version_minor": 0
      },
      "text/plain": [
       "  0%|          | 0/4 [00:00<?, ?it/s]"
      ]
     },
     "metadata": {},
     "output_type": "display_data"
    },
    {
     "name": "stdout",
     "output_type": "stream",
     "text": [
      "huggingface/tokenizers: The current process just got forked, after parallelism has already been used. Disabling parallelism to avoid deadlocks...\n",
      "To disable this warning, you can either:\n",
      "\t- Avoid using `tokenizers` before the fork if possible\n",
      "\t- Explicitly set the environment variable TOKENIZERS_PARALLELISM=(true | false)\n",
      "huggingface/tokenizers: The current process just got forked, after parallelism has already been used. Disabling parallelism to avoid deadlocks...\n",
      "To disable this warning, you can either:\n",
      "\t- Avoid using `tokenizers` before the fork if possible\n",
      "\t- Explicitly set the environment variable TOKENIZERS_PARALLELISM=(true | false)\n",
      "huggingface/tokenizers: The current process just got forked, after parallelism has already been used. Disabling parallelism to avoid deadlocks...\n",
      "To disable this warning, you can either:\n",
      "\t- Avoid using `tokenizers` before the fork if possible\n",
      "\t- Explicitly set the environment variable TOKENIZERS_PARALLELISM=(true | false)\n",
      "huggingface/tokenizers: The current process just got forked, after parallelism has already been used. Disabling parallelism to avoid deadlocks...\n",
      "To disable this warning, you can either:\n",
      "\t- Avoid using `tokenizers` before the fork if possible\n",
      "\t- Explicitly set the environment variable TOKENIZERS_PARALLELISM=(true | false)\n",
      "\t- Avoid using `tokenizers` before the fork if possible\n",
      "\t- Explicitly set the environment variable TOKENIZERS_PARALLELISM=(true | false)\n",
      "huggingface/tokenizers: The current process just got forked, after parallelism has already been used. Disabling parallelism to avoid deadlocks...\n",
      "To disable this warning, you can either:\n",
      "\t- Avoid using `tokenizers` before the fork if possible\n",
      "\t- Explicitly set the environment variable TOKENIZERS_PARALLELISM=(true | false)\n",
      "epoch: 0 | test_acc: 0.4234375\n",
      "huggingface/tokenizers: The current process just got forked, after parallelism has already been used. Disabling parallelism to avoid deadlocks...\n",
      "To disable this warning, you can either:\n",
      "\t- Avoid using `tokenizers` before the fork if possible\n",
      "\t- Explicitly set the environment variable TOKENIZERS_PARALLELISM=(true | false)\n",
      "huggingface/tokenizers: The current process just got forked, after parallelism has already been used. Disabling parallelism to avoid deadlocks...\n",
      "To disable this warning, you can either:\n",
      "\t- Avoid using `tokenizers` before the fork if possible\n",
      "\t- Explicitly set the environment variable TOKENIZERS_PARALLELISM=(true | false)\n",
      "huggingface/tokenizers: The current process just got forked, after parallelism has already been used. Disabling parallelism to avoid deadlocks...\n",
      "To disable this warning, you can either:\n",
      "\t- Avoid using `tokenizers` before the fork if possible\n",
      "\t- Explicitly set the environment variable TOKENIZERS_PARALLELISM=(true | false)\n",
      "huggingface/tokenizers: The current process just got forked, after parallelism has already been used. Disabling parallelism to avoid deadlocks...\n",
      "To disable this warning, you can either:\n",
      "\t- Avoid using `tokenizers` before the fork if possible\n",
      "\t- Explicitly set the environment variable TOKENIZERS_PARALLELISM=(true | false)\n",
      "epoch: 1 | train_acc: 0.453125\n",
      "epoch: 1 | train_acc: 0.3828125\n",
      "epoch: 1 | train_acc: 0.40625\n",
      "epoch: 1 | train_acc: 0.41796875\n",
      "epoch: 1 | train_acc: 0.41875\n",
      "epoch: 1 | train_acc: 0.4296875\n",
      "epoch: 1 | train_acc: 0.41964285714285715\n",
      "epoch: 1 | train_acc: 0.412109375\n",
      "epoch: 1 | train_acc: 0.4131944444444444\n",
      "epoch: 1 | train_acc: 0.409375\n",
      "epoch: 1 | train_acc: 0.4119318181818182\n",
      "epoch: 1 | train_acc: 0.4205729166666667\n",
      "huggingface/tokenizers: The current process just got forked, after parallelism has already been used. Disabling parallelism to avoid deadlocks...\n",
      "To disable this warning, you can either:\n",
      "\t- Avoid using `tokenizers` before the fork if possible\n",
      "\t- Explicitly set the environment variable TOKENIZERS_PARALLELISM=(true | false)\n",
      "\t- Avoid using `tokenizers` before the fork if possible\n",
      "\t- Explicitly set the environment variable TOKENIZERS_PARALLELISM=(true | false)\n",
      "epoch: 1 | train_acc: 0.4170673076923077\n"
     ]
    },
    {
     "data": {
      "application/vnd.jupyter.widget-view+json": {
       "model_id": "e070e778c0e149d0b28aa84ce93e14c2",
       "version_major": 2,
       "version_minor": 0
      },
      "text/plain": [
       "  0%|          | 0/4 [00:00<?, ?it/s]"
      ]
     },
     "metadata": {},
     "output_type": "display_data"
    },
    {
     "name": "stdout",
     "output_type": "stream",
     "text": [
      "huggingface/tokenizers: The current process just got forked, after parallelism has already been used. Disabling parallelism to avoid deadlocks...\n",
      "To disable this warning, you can either:\n",
      "\t- Avoid using `tokenizers` before the fork if possible\n",
      "\t- Explicitly set the environment variable TOKENIZERS_PARALLELISM=(true | false)\n",
      "huggingface/tokenizers: The current process just got forked, after parallelism has already been used. Disabling parallelism to avoid deadlocks...\n",
      "To disable this warning, you can either:\n",
      "\t- Avoid using `tokenizers` before the fork if possible\n",
      "\t- Explicitly set the environment variable TOKENIZERS_PARALLELISM=(true | false)\n",
      "huggingface/tokenizers: The current process just got forked, after parallelism has already been used. Disabling parallelism to avoid deadlocks...\n",
      "To disable this warning, you can either:\n",
      "\t- Avoid using `tokenizers` before the fork if possible\n",
      "\t- Explicitly set the environment variable TOKENIZERS_PARALLELISM=(true | false)\n",
      "huggingface/tokenizers: The current process just got forked, after parallelism has already been used. Disabling parallelism to avoid deadlocks...\n",
      "To disable this warning, you can either:\n",
      "\t- Avoid using `tokenizers` before the fork if possible\n",
      "\t- Explicitly set the environment variable TOKENIZERS_PARALLELISM=(true | false)\n",
      "huggingface/tokenizers: The current process just got forked, after parallelism has already been used. Disabling parallelism to avoid deadlocks...\n",
      "To disable this warning, you can either:\n",
      "\t- Avoid using `tokenizers` before the fork if possible\n",
      "\t- Explicitly set the environment variable TOKENIZERS_PARALLELISM=(true | false)\n",
      "huggingface/tokenizers: The current process just got forked, after parallelism has already been used. Disabling parallelism to avoid deadlocks...\n",
      "To disable this warning, you can either:\n",
      "\t- Avoid using `tokenizers` before the fork if possible\n",
      "\t- Explicitly set the environment variable TOKENIZERS_PARALLELISM=(true | false)\n",
      "epoch: 1 | test_acc: 0.37734375\n",
      "huggingface/tokenizers: The current process just got forked, after parallelism has already been used. Disabling parallelism to avoid deadlocks...\n",
      "To disable this warning, you can either:\n",
      "\t- Avoid using `tokenizers` before the fork if possible\n",
      "\t- Explicitly set the environment variable TOKENIZERS_PARALLELISM=(true | false)\n",
      "huggingface/tokenizers: The current process just got forked, after parallelism has already been used. Disabling parallelism to avoid deadlocks...\n",
      "To disable this warning, you can either:\n",
      "\t- Avoid using `tokenizers` before the fork if possible\n",
      "\t- Explicitly set the environment variable TOKENIZERS_PARALLELISM=(true | false)\n",
      "huggingface/tokenizers: The current process just got forked, after parallelism has already been used. Disabling parallelism to avoid deadlocks...\n",
      "To disable this warning, you can either:\n",
      "\t- Avoid using `tokenizers` before the fork if possible\n",
      "\t- Explicitly set the environment variable TOKENIZERS_PARALLELISM=(true | false)\n",
      "huggingface/tokenizers: The current process just got forked, after parallelism has already been used. Disabling parallelism to avoid deadlocks...\n",
      "To disable this warning, you can either:\n",
      "\t- Avoid using `tokenizers` before the fork if possible\n",
      "\t- Explicitly set the environment variable TOKENIZERS_PARALLELISM=(true | false)\n",
      "epoch: 2 | train_acc: 0.5\n",
      "epoch: 2 | train_acc: 0.4375\n",
      "epoch: 2 | train_acc: 0.4166666666666667\n",
      "epoch: 2 | train_acc: 0.4609375\n",
      "epoch: 2 | train_acc: 0.459375\n",
      "epoch: 2 | train_acc: 0.4609375\n",
      "epoch: 2 | train_acc: 0.4575892857142857\n",
      "epoch: 2 | train_acc: 0.466796875\n",
      "epoch: 2 | train_acc: 0.4739583333333333\n",
      "epoch: 2 | train_acc: 0.478125\n",
      "epoch: 2 | train_acc: 0.46732954545454547\n",
      "epoch: 2 | train_acc: 0.4622395833333333\n",
      "huggingface/tokenizers: The current process just got forked, after parallelism has already been used. Disabling parallelism to avoid deadlocks...\n",
      "To disable this warning, you can either:\n",
      "\t- Avoid using `tokenizers` before the fork if possible\n",
      "\t- Explicitly set the environment variable TOKENIZERS_PARALLELISM=(true | false)\n",
      "epoch: 2 | train_acc: 0.4651442307692308\n"
     ]
    },
    {
     "data": {
      "application/vnd.jupyter.widget-view+json": {
       "model_id": "793b1496f1114071b8d4412cc61fe9c6",
       "version_major": 2,
       "version_minor": 0
      },
      "text/plain": [
       "  0%|          | 0/4 [00:00<?, ?it/s]"
      ]
     },
     "metadata": {},
     "output_type": "display_data"
    },
    {
     "name": "stdout",
     "output_type": "stream",
     "text": [
      "huggingface/tokenizers: The current process just got forked, after parallelism has already been used. Disabling parallelism to avoid deadlocks...\n",
      "To disable this warning, you can either:\n",
      "\t- Avoid using `tokenizers` before the fork if possible\n",
      "\t- Explicitly set the environment variable TOKENIZERS_PARALLELISM=(true | false)\n",
      "huggingface/tokenizers: The current process just got forked, after parallelism has already been used. Disabling parallelism to avoid deadlocks...\n",
      "To disable this warning, you can either:\n",
      "\t- Avoid using `tokenizers` before the fork if possible\n",
      "\t- Explicitly set the environment variable TOKENIZERS_PARALLELISM=(true | false)\n",
      "huggingface/tokenizers: The current process just got forked, after parallelism has already been used. Disabling parallelism to avoid deadlocks...\n",
      "To disable this warning, you can either:\n",
      "\t- Avoid using `tokenizers` before the fork if possible\n",
      "\t- Explicitly set the environment variable TOKENIZERS_PARALLELISM=(true | false)\n",
      "huggingface/tokenizers: The current process just got forked, after parallelism has already been used. Disabling parallelism to avoid deadlocks...\n",
      "To disable this warning, you can either:\n",
      "\t- Avoid using `tokenizers` before the fork if possible\n",
      "\t- Explicitly set the environment variable TOKENIZERS_PARALLELISM=(true | false)\n",
      "\t- Avoid using `tokenizers` before the fork if possible\n",
      "\t- Explicitly set the environment variable TOKENIZERS_PARALLELISM=(true | false)\n",
      "epoch: 2 | test_acc: 0.346875\n",
      "huggingface/tokenizers: The current process just got forked, after parallelism has already been used. Disabling parallelism to avoid deadlocks...\n",
      "To disable this warning, you can either:\n",
      "\t- Avoid using `tokenizers` before the fork if possible\n",
      "\t- Explicitly set the environment variable TOKENIZERS_PARALLELISM=(true | false)\n",
      "huggingface/tokenizers: The current process just got forked, after parallelism has already been used. Disabling parallelism to avoid deadlocks...\n",
      "To disable this warning, you can either:\n",
      "\t- Avoid using `tokenizers` before the fork if possible\n",
      "\t- Explicitly set the environment variable TOKENIZERS_PARALLELISM=(true | false)\n",
      "huggingface/tokenizers: The current process just got forked, after parallelism has already been used. Disabling parallelism to avoid deadlocks...\n",
      "To disable this warning, you can either:\n",
      "\t- Avoid using `tokenizers` before the fork if possible\n",
      "\t- Explicitly set the environment variable TOKENIZERS_PARALLELISM=(true | false)\n",
      "huggingface/tokenizers: The current process just got forked, after parallelism has already been used. Disabling parallelism to avoid deadlocks...\n",
      "To disable this warning, you can either:\n",
      "\t- Avoid using `tokenizers` before the fork if possible\n",
      "\t- Explicitly set the environment variable TOKENIZERS_PARALLELISM=(true | false)\n",
      "epoch: 3 | train_acc: 0.421875\n",
      "epoch: 3 | train_acc: 0.4453125\n",
      "epoch: 3 | train_acc: 0.484375\n",
      "epoch: 3 | train_acc: 0.48828125\n",
      "epoch: 3 | train_acc: 0.515625\n",
      "epoch: 3 | train_acc: 0.5234375\n",
      "epoch: 3 | train_acc: 0.5223214285714286\n",
      "epoch: 3 | train_acc: 0.53125\n",
      "epoch: 3 | train_acc: 0.5260416666666666\n",
      "epoch: 3 | train_acc: 0.5234375\n",
      "epoch: 3 | train_acc: 0.5326704545454546\n",
      "epoch: 3 | train_acc: 0.5260416666666666\n",
      "huggingface/tokenizers: The current process just got forked, after parallelism has already been used. Disabling parallelism to avoid deadlocks...\n",
      "epoch: 3 | train_acc: 0.5336538461538461\n"
     ]
    },
    {
     "data": {
      "application/vnd.jupyter.widget-view+json": {
       "model_id": "150298dab59a4c8c8870b6a71e42a95e",
       "version_major": 2,
       "version_minor": 0
      },
      "text/plain": [
       "  0%|          | 0/4 [00:00<?, ?it/s]"
      ]
     },
     "metadata": {},
     "output_type": "display_data"
    },
    {
     "name": "stdout",
     "output_type": "stream",
     "text": [
      "huggingface/tokenizers: The current process just got forked, after parallelism has already been used. Disabling parallelism to avoid deadlocks...\n",
      "To disable this warning, you can either:\n",
      "\t- Avoid using `tokenizers` before the fork if possible\n",
      "\t- Explicitly set the environment variable TOKENIZERS_PARALLELISM=(true | false)\n",
      "huggingface/tokenizers: The current process just got forked, after parallelism has already been used. Disabling parallelism to avoid deadlocks...\n",
      "To disable this warning, you can either:\n",
      "\t- Avoid using `tokenizers` before the fork if possible\n",
      "\t- Explicitly set the environment variable TOKENIZERS_PARALLELISM=(true | false)\n",
      "huggingface/tokenizers: The current process just got forked, after parallelism has already been used. Disabling parallelism to avoid deadlocks...\n",
      "To disable this warning, you can either:\n",
      "\t- Avoid using `tokenizers` before the fork if possible\n",
      "\t- Explicitly set the environment variable TOKENIZERS_PARALLELISM=(true | false)\n",
      "huggingface/tokenizers: The current process just got forked, after parallelism has already been used. Disabling parallelism to avoid deadlocks...\n",
      "To disable this warning, you can either:\n",
      "\t- Avoid using `tokenizers` before the fork if possible\n",
      "\t- Explicitly set the environment variable TOKENIZERS_PARALLELISM=(true | false)\n",
      "To disable this warning, you can either:\n",
      "\t- Avoid using `tokenizers` before the fork if possible\n",
      "\t- Explicitly set the environment variable TOKENIZERS_PARALLELISM=(true | false)\n",
      "epoch: 3 | test_acc: 0.44296875\n",
      "huggingface/tokenizers: The current process just got forked, after parallelism has already been used. Disabling parallelism to avoid deadlocks...\n",
      "To disable this warning, you can either:\n",
      "\t- Avoid using `tokenizers` before the fork if possible\n",
      "\t- Explicitly set the environment variable TOKENIZERS_PARALLELISM=(true | false)\n",
      "huggingface/tokenizers: The current process just got forked, after parallelism has already been used. Disabling parallelism to avoid deadlocks...\n",
      "To disable this warning, you can either:\n",
      "\t- Avoid using `tokenizers` before the fork if possible\n",
      "\t- Explicitly set the environment variable TOKENIZERS_PARALLELISM=(true | false)\n",
      "huggingface/tokenizers: The current process just got forked, after parallelism has already been used. Disabling parallelism to avoid deadlocks...\n",
      "To disable this warning, you can either:\n",
      "\t- Avoid using `tokenizers` before the fork if possible\n",
      "\t- Explicitly set the environment variable TOKENIZERS_PARALLELISM=(true | false)\n",
      "huggingface/tokenizers: The current process just got forked, after parallelism has already been used. Disabling parallelism to avoid deadlocks...\n",
      "To disable this warning, you can either:\n",
      "\t- Avoid using `tokenizers` before the fork if possible\n",
      "\t- Explicitly set the environment variable TOKENIZERS_PARALLELISM=(true | false)\n",
      "epoch: 4 | train_acc: 0.53125\n",
      "epoch: 4 | train_acc: 0.5546875\n",
      "epoch: 4 | train_acc: 0.5260416666666666\n",
      "epoch: 4 | train_acc: 0.5390625\n",
      "epoch: 4 | train_acc: 0.55625\n",
      "epoch: 4 | train_acc: 0.5546875\n",
      "epoch: 4 | train_acc: 0.546875\n",
      "epoch: 4 | train_acc: 0.546875\n",
      "epoch: 4 | train_acc: 0.5607638888888888\n",
      "epoch: 4 | train_acc: 0.5578125\n",
      "epoch: 4 | train_acc: 0.5525568181818182\n",
      "epoch: 4 | train_acc: 0.5572916666666666\n",
      "huggingface/tokenizers: The current process just got forked, after parallelism has already been used. Disabling parallelism to avoid deadlocks...\n",
      "epoch: 4 | train_acc: 0.5625\n"
     ]
    },
    {
     "data": {
      "application/vnd.jupyter.widget-view+json": {
       "model_id": "6289a22f2a3e4f32b5378912535855d4",
       "version_major": 2,
       "version_minor": 0
      },
      "text/plain": [
       "  0%|          | 0/4 [00:00<?, ?it/s]"
      ]
     },
     "metadata": {},
     "output_type": "display_data"
    },
    {
     "name": "stdout",
     "output_type": "stream",
     "text": [
      "huggingface/tokenizers: The current process just got forked, after parallelism has already been used. Disabling parallelism to avoid deadlocks...\n",
      "To disable this warning, you can either:\n",
      "\t- Avoid using `tokenizers` before the fork if possible\n",
      "\t- Explicitly set the environment variable TOKENIZERS_PARALLELISM=(true | false)\n",
      "huggingface/tokenizers: The current process just got forked, after parallelism has already been used. Disabling parallelism to avoid deadlocks...\n",
      "To disable this warning, you can either:\n",
      "\t- Avoid using `tokenizers` before the fork if possible\n",
      "\t- Explicitly set the environment variable TOKENIZERS_PARALLELISM=(true | false)\n",
      "huggingface/tokenizers: The current process just got forked, after parallelism has already been used. Disabling parallelism to avoid deadlocks...\n",
      "To disable this warning, you can either:\n",
      "\t- Avoid using `tokenizers` before the fork if possible\n",
      "\t- Explicitly set the environment variable TOKENIZERS_PARALLELISM=(true | false)\n",
      "huggingface/tokenizers: The current process just got forked, after parallelism has already been used. Disabling parallelism to avoid deadlocks...\n",
      "To disable this warning, you can either:\n",
      "\t- Avoid using `tokenizers` before the fork if possible\n",
      "\t- Explicitly set the environment variable TOKENIZERS_PARALLELISM=(true | false)\n",
      "huggingface/tokenizers: The current process just got forked, after parallelism has already been used. Disabling parallelism to avoid deadlocks...\n",
      "To disable this warning, you can either:\n",
      "\t- Avoid using `tokenizers` before the fork if possible\n",
      "\t- Explicitly set the environment variable TOKENIZERS_PARALLELISM=(true | false)\n",
      "epoch: 4 | test_acc: 0.39375\n",
      "huggingface/tokenizers: The current process just got forked, after parallelism has already been used. Disabling parallelism to avoid deadlocks...\n",
      "To disable this warning, you can either:\n",
      "\t- Avoid using `tokenizers` before the fork if possible\n",
      "\t- Explicitly set the environment variable TOKENIZERS_PARALLELISM=(true | false)\n",
      "huggingface/tokenizers: The current process just got forked, after parallelism has already been used. Disabling parallelism to avoid deadlocks...\n",
      "To disable this warning, you can either:\n",
      "\t- Avoid using `tokenizers` before the fork if possible\n",
      "\t- Explicitly set the environment variable TOKENIZERS_PARALLELISM=(true | false)\n",
      "huggingface/tokenizers: The current process just got forked, after parallelism has already been used. Disabling parallelism to avoid deadlocks...\n",
      "To disable this warning, you can either:\n",
      "\t- Avoid using `tokenizers` before the fork if possible\n",
      "\t- Explicitly set the environment variable TOKENIZERS_PARALLELISM=(true | false)\n",
      "huggingface/tokenizers: The current process just got forked, after parallelism has already been used. Disabling parallelism to avoid deadlocks...\n",
      "To disable this warning, you can either:\n",
      "\t- Avoid using `tokenizers` before the fork if possible\n",
      "\t- Explicitly set the environment variable TOKENIZERS_PARALLELISM=(true | false)\n",
      "epoch: 5 | train_acc: 0.8125\n",
      "epoch: 5 | train_acc: 0.8046875\n",
      "epoch: 5 | train_acc: 0.7760416666666666\n",
      "epoch: 5 | train_acc: 0.75\n",
      "epoch: 5 | train_acc: 0.725\n",
      "epoch: 5 | train_acc: 0.7239583333333334\n",
      "epoch: 5 | train_acc: 0.71875\n",
      "epoch: 5 | train_acc: 0.71484375\n",
      "epoch: 5 | train_acc: 0.71875\n",
      "epoch: 5 | train_acc: 0.7015625\n",
      "epoch: 5 | train_acc: 0.703125\n",
      "epoch: 5 | train_acc: 0.703125\n",
      "\t- Avoid using `tokenizers` before the fork if possible\n",
      "\t- Explicitly set the environment variable TOKENIZERS_PARALLELISM=(true | false)\n",
      "To disable this warning, you can either:\n",
      "\t- Avoid using `tokenizers` before the fork if possible\n",
      "\t- Explicitly set the environment variable TOKENIZERS_PARALLELISM=(true | false)\n",
      "epoch: 5 | train_acc: 0.7019230769230769\n"
     ]
    },
    {
     "data": {
      "application/vnd.jupyter.widget-view+json": {
       "model_id": "b2a1658ca5a845209c1cc04dd4c4dd0c",
       "version_major": 2,
       "version_minor": 0
      },
      "text/plain": [
       "  0%|          | 0/4 [00:00<?, ?it/s]"
      ]
     },
     "metadata": {},
     "output_type": "display_data"
    },
    {
     "name": "stdout",
     "output_type": "stream",
     "text": [
      "huggingface/tokenizers: The current process just got forked, after parallelism has already been used. Disabling parallelism to avoid deadlocks...\n",
      "To disable this warning, you can either:\n",
      "\t- Avoid using `tokenizers` before the fork if possible\n",
      "\t- Explicitly set the environment variable TOKENIZERS_PARALLELISM=(true | false)\n",
      "huggingface/tokenizers: The current process just got forked, after parallelism has already been used. Disabling parallelism to avoid deadlocks...\n",
      "To disable this warning, you can either:\n",
      "\t- Avoid using `tokenizers` before the fork if possible\n",
      "\t- Explicitly set the environment variable TOKENIZERS_PARALLELISM=(true | false)\n",
      "huggingface/tokenizers: The current process just got forked, after parallelism has already been used. Disabling parallelism to avoid deadlocks...\n",
      "To disable this warning, you can either:\n",
      "\t- Avoid using `tokenizers` before the fork if possible\n",
      "\t- Explicitly set the environment variable TOKENIZERS_PARALLELISM=(true | false)\n",
      "huggingface/tokenizers: The current process just got forked, after parallelism has already been used. Disabling parallelism to avoid deadlocks...\n",
      "To disable this warning, you can either:\n",
      "\t- Avoid using `tokenizers` before the fork if possible\n",
      "\t- Explicitly set the environment variable TOKENIZERS_PARALLELISM=(true | false)\n",
      "\t- Avoid using `tokenizers` before the fork if possible\n",
      "\t- Explicitly set the environment variable TOKENIZERS_PARALLELISM=(true | false)\n",
      "epoch: 5 | test_acc: 0.36640625\n",
      "huggingface/tokenizers: The current process just got forked, after parallelism has already been used. Disabling parallelism to avoid deadlocks...\n",
      "To disable this warning, you can either:\n",
      "\t- Avoid using `tokenizers` before the fork if possible\n",
      "\t- Explicitly set the environment variable TOKENIZERS_PARALLELISM=(true | false)\n",
      "huggingface/tokenizers: The current process just got forked, after parallelism has already been used. Disabling parallelism to avoid deadlocks...\n",
      "To disable this warning, you can either:\n",
      "\t- Avoid using `tokenizers` before the fork if possible\n",
      "\t- Explicitly set the environment variable TOKENIZERS_PARALLELISM=(true | false)\n",
      "huggingface/tokenizers: The current process just got forked, after parallelism has already been used. Disabling parallelism to avoid deadlocks...\n",
      "To disable this warning, you can either:\n",
      "\t- Avoid using `tokenizers` before the fork if possible\n",
      "\t- Explicitly set the environment variable TOKENIZERS_PARALLELISM=(true | false)\n",
      "huggingface/tokenizers: The current process just got forked, after parallelism has already been used. Disabling parallelism to avoid deadlocks...\n",
      "To disable this warning, you can either:\n",
      "\t- Avoid using `tokenizers` before the fork if possible\n",
      "\t- Explicitly set the environment variable TOKENIZERS_PARALLELISM=(true | false)\n",
      "epoch: 6 | train_acc: 0.734375\n",
      "epoch: 6 | train_acc: 0.7578125\n",
      "epoch: 6 | train_acc: 0.78125\n",
      "epoch: 6 | train_acc: 0.77734375\n",
      "epoch: 6 | train_acc: 0.7875\n",
      "epoch: 6 | train_acc: 0.7994791666666666\n",
      "epoch: 6 | train_acc: 0.8080357142857143\n",
      "epoch: 6 | train_acc: 0.80078125\n",
      "epoch: 6 | train_acc: 0.7951388888888888\n",
      "epoch: 6 | train_acc: 0.7953125\n",
      "epoch: 6 | train_acc: 0.8053977272727273\n",
      "epoch: 6 | train_acc: 0.8098958333333334\n",
      "\t- Explicitly set the environment variable TOKENIZERS_PARALLELISM=(true | false)\n",
      "To disable this warning, you can either:\n",
      "\t- Avoid using `tokenizers` before the fork if possible\n",
      "\t- Explicitly set the environment variable TOKENIZERS_PARALLELISM=(true | false)\n",
      "epoch: 6 | train_acc: 0.8149038461538461\n"
     ]
    },
    {
     "data": {
      "application/vnd.jupyter.widget-view+json": {
       "model_id": "4cea4ab061a2417381f976c3c1653aed",
       "version_major": 2,
       "version_minor": 0
      },
      "text/plain": [
       "  0%|          | 0/4 [00:00<?, ?it/s]"
      ]
     },
     "metadata": {},
     "output_type": "display_data"
    },
    {
     "name": "stdout",
     "output_type": "stream",
     "text": [
      "huggingface/tokenizers: The current process just got forked, after parallelism has already been used. Disabling parallelism to avoid deadlocks...\n",
      "To disable this warning, you can either:\n",
      "\t- Avoid using `tokenizers` before the fork if possible\n",
      "\t- Explicitly set the environment variable TOKENIZERS_PARALLELISM=(true | false)\n",
      "huggingface/tokenizers: The current process just got forked, after parallelism has already been used. Disabling parallelism to avoid deadlocks...\n",
      "To disable this warning, you can either:\n",
      "\t- Avoid using `tokenizers` before the fork if possible\n",
      "\t- Explicitly set the environment variable TOKENIZERS_PARALLELISM=(true | false)\n",
      "huggingface/tokenizers: The current process just got forked, after parallelism has already been used. Disabling parallelism to avoid deadlocks...\n",
      "To disable this warning, you can either:\n",
      "\t- Avoid using `tokenizers` before the fork if possible\n",
      "\t- Explicitly set the environment variable TOKENIZERS_PARALLELISM=(true | false)\n",
      "huggingface/tokenizers: The current process just got forked, after parallelism has already been used. Disabling parallelism to avoid deadlocks...\n",
      "To disable this warning, you can either:\n",
      "\t- Avoid using `tokenizers` before the fork if possible\n",
      "\t- Explicitly set the environment variable TOKENIZERS_PARALLELISM=(true | false)\n",
      "huggingface/tokenizers: The current process just got forked, after parallelism has already been used. Disabling parallelism to avoid deadlocks...\n",
      "To disable this warning, you can either:\n",
      "\t- Avoid using `tokenizers` before the fork if possible\n",
      "\t- Explicitly set the environment variable TOKENIZERS_PARALLELISM=(true | false)\n",
      "huggingface/tokenizers: The current process just got forked, after parallelism has already been used. Disabling parallelism to avoid deadlocks...\n",
      "To disable this warning, you can either:\n",
      "\t- Avoid using `tokenizers` before the fork if possible\n",
      "\t- Explicitly set the environment variable TOKENIZERS_PARALLELISM=(true | false)\n",
      "epoch: 6 | test_acc: 0.45078125\n",
      "huggingface/tokenizers: The current process just got forked, after parallelism has already been used. Disabling parallelism to avoid deadlocks...\n",
      "To disable this warning, you can either:\n",
      "\t- Avoid using `tokenizers` before the fork if possible\n",
      "\t- Explicitly set the environment variable TOKENIZERS_PARALLELISM=(true | false)\n",
      "huggingface/tokenizers: The current process just got forked, after parallelism has already been used. Disabling parallelism to avoid deadlocks...\n",
      "To disable this warning, you can either:\n",
      "\t- Avoid using `tokenizers` before the fork if possible\n",
      "\t- Explicitly set the environment variable TOKENIZERS_PARALLELISM=(true | false)\n",
      "huggingface/tokenizers: The current process just got forked, after parallelism has already been used. Disabling parallelism to avoid deadlocks...\n",
      "To disable this warning, you can either:\n",
      "\t- Avoid using `tokenizers` before the fork if possible\n",
      "\t- Explicitly set the environment variable TOKENIZERS_PARALLELISM=(true | false)\n",
      "huggingface/tokenizers: The current process just got forked, after parallelism has already been used. Disabling parallelism to avoid deadlocks...\n",
      "To disable this warning, you can either:\n",
      "\t- Avoid using `tokenizers` before the fork if possible\n",
      "\t- Explicitly set the environment variable TOKENIZERS_PARALLELISM=(true | false)\n",
      "epoch: 7 | train_acc: 0.859375\n",
      "epoch: 7 | train_acc: 0.8671875\n",
      "epoch: 7 | train_acc: 0.8802083333333334\n",
      "epoch: 7 | train_acc: 0.875\n",
      "epoch: 7 | train_acc: 0.890625\n",
      "epoch: 7 | train_acc: 0.9036458333333334\n",
      "epoch: 7 | train_acc: 0.9017857142857143\n",
      "epoch: 7 | train_acc: 0.904296875\n",
      "epoch: 7 | train_acc: 0.90625\n",
      "epoch: 7 | train_acc: 0.9109375\n",
      "epoch: 7 | train_acc: 0.90625\n",
      "epoch: 7 | train_acc: 0.91015625\n",
      "epoch: 7 | train_acc: 0.9122596153846154\n"
     ]
    },
    {
     "data": {
      "application/vnd.jupyter.widget-view+json": {
       "model_id": "df5c2c2550b9424abc30c82bd1a59657",
       "version_major": 2,
       "version_minor": 0
      },
      "text/plain": [
       "  0%|          | 0/4 [00:00<?, ?it/s]"
      ]
     },
     "metadata": {},
     "output_type": "display_data"
    },
    {
     "name": "stdout",
     "output_type": "stream",
     "text": [
      "huggingface/tokenizers: The current process just got forked, after parallelism has already been used. Disabling parallelism to avoid deadlocks...\n",
      "To disable this warning, you can either:\n",
      "\t- Avoid using `tokenizers` before the fork if possible\n",
      "\t- Explicitly set the environment variable TOKENIZERS_PARALLELISM=(true | false)\n",
      "huggingface/tokenizers: The current process just got forked, after parallelism has already been used. Disabling parallelism to avoid deadlocks...\n",
      "To disable this warning, you can either:\n",
      "\t- Avoid using `tokenizers` before the fork if possible\n",
      "\t- Explicitly set the environment variable TOKENIZERS_PARALLELISM=(true | false)\n",
      "huggingface/tokenizers: The current process just got forked, after parallelism has already been used. Disabling parallelism to avoid deadlocks...\n",
      "To disable this warning, you can either:\n",
      "\t- Avoid using `tokenizers` before the fork if possible\n",
      "\t- Explicitly set the environment variable TOKENIZERS_PARALLELISM=(true | false)\n",
      "huggingface/tokenizers: The current process just got forked, after parallelism has already been used. Disabling parallelism to avoid deadlocks...\n",
      "To disable this warning, you can either:\n",
      "\t- Avoid using `tokenizers` before the fork if possible\n",
      "\t- Explicitly set the environment variable TOKENIZERS_PARALLELISM=(true | false)\n",
      "epoch: 7 | test_acc: 0.4203125\n",
      "huggingface/tokenizers: The current process just got forked, after parallelism has already been used. Disabling parallelism to avoid deadlocks...\n",
      "To disable this warning, you can either:\n",
      "\t- Avoid using `tokenizers` before the fork if possible\n",
      "\t- Explicitly set the environment variable TOKENIZERS_PARALLELISM=(true | false)\n",
      "huggingface/tokenizers: The current process just got forked, after parallelism has already been used. Disabling parallelism to avoid deadlocks...\n",
      "To disable this warning, you can either:\n",
      "\t- Avoid using `tokenizers` before the fork if possible\n",
      "\t- Explicitly set the environment variable TOKENIZERS_PARALLELISM=(true | false)\n",
      "huggingface/tokenizers: The current process just got forked, after parallelism has already been used. Disabling parallelism to avoid deadlocks...\n",
      "To disable this warning, you can either:\n",
      "\t- Avoid using `tokenizers` before the fork if possible\n",
      "\t- Explicitly set the environment variable TOKENIZERS_PARALLELISM=(true | false)\n",
      "huggingface/tokenizers: The current process just got forked, after parallelism has already been used. Disabling parallelism to avoid deadlocks...\n",
      "To disable this warning, you can either:\n",
      "\t- Avoid using `tokenizers` before the fork if possible\n",
      "\t- Explicitly set the environment variable TOKENIZERS_PARALLELISM=(true | false)\n",
      "epoch: 8 | train_acc: 0.984375\n",
      "epoch: 8 | train_acc: 0.96875\n",
      "epoch: 8 | train_acc: 0.9583333333333334\n",
      "epoch: 8 | train_acc: 0.95703125\n",
      "epoch: 8 | train_acc: 0.9625\n",
      "epoch: 8 | train_acc: 0.9661458333333334\n",
      "epoch: 8 | train_acc: 0.9575892857142857\n",
      "epoch: 8 | train_acc: 0.951171875\n",
      "epoch: 8 | train_acc: 0.9479166666666666\n",
      "epoch: 8 | train_acc: 0.946875\n",
      "epoch: 8 | train_acc: 0.9502840909090909\n",
      "epoch: 8 | train_acc: 0.9505208333333334\n",
      "epoch: 8 | train_acc: 0.9543269230769231\n"
     ]
    },
    {
     "data": {
      "application/vnd.jupyter.widget-view+json": {
       "model_id": "54469614c6194c3c8866551c4def6570",
       "version_major": 2,
       "version_minor": 0
      },
      "text/plain": [
       "  0%|          | 0/4 [00:00<?, ?it/s]"
      ]
     },
     "metadata": {},
     "output_type": "display_data"
    },
    {
     "name": "stdout",
     "output_type": "stream",
     "text": [
      "huggingface/tokenizers: The current process just got forked, after parallelism has already been used. Disabling parallelism to avoid deadlocks...\n",
      "To disable this warning, you can either:\n",
      "\t- Avoid using `tokenizers` before the fork if possible\n",
      "\t- Explicitly set the environment variable TOKENIZERS_PARALLELISM=(true | false)\n",
      "huggingface/tokenizers: The current process just got forked, after parallelism has already been used. Disabling parallelism to avoid deadlocks...\n",
      "To disable this warning, you can either:\n",
      "\t- Avoid using `tokenizers` before the fork if possible\n",
      "\t- Explicitly set the environment variable TOKENIZERS_PARALLELISM=(true | false)\n",
      "huggingface/tokenizers: The current process just got forked, after parallelism has already been used. Disabling parallelism to avoid deadlocks...\n",
      "To disable this warning, you can either:\n",
      "\t- Avoid using `tokenizers` before the fork if possible\n",
      "\t- Explicitly set the environment variable TOKENIZERS_PARALLELISM=(true | false)\n",
      "huggingface/tokenizers: The current process just got forked, after parallelism has already been used. Disabling parallelism to avoid deadlocks...\n",
      "To disable this warning, you can either:\n",
      "\t- Avoid using `tokenizers` before the fork if possible\n",
      "\t- Explicitly set the environment variable TOKENIZERS_PARALLELISM=(true | false)\n",
      "To disable this warning, you can either:\n",
      "\t- Avoid using `tokenizers` before the fork if possible\n",
      "\t- Explicitly set the environment variable TOKENIZERS_PARALLELISM=(true | false)\n",
      "huggingface/tokenizers: The current process just got forked, after parallelism has already been used. Disabling parallelism to avoid deadlocks...\n",
      "To disable this warning, you can either:\n",
      "\t- Avoid using `tokenizers` before the fork if possible\n",
      "\t- Explicitly set the environment variable TOKENIZERS_PARALLELISM=(true | false)\n",
      "epoch: 8 | test_acc: 0.38203125\n",
      "huggingface/tokenizers: The current process just got forked, after parallelism has already been used. Disabling parallelism to avoid deadlocks...\n",
      "To disable this warning, you can either:\n",
      "\t- Avoid using `tokenizers` before the fork if possible\n",
      "\t- Explicitly set the environment variable TOKENIZERS_PARALLELISM=(true | false)\n",
      "huggingface/tokenizers: The current process just got forked, after parallelism has already been used. Disabling parallelism to avoid deadlocks...\n",
      "To disable this warning, you can either:\n",
      "\t- Avoid using `tokenizers` before the fork if possible\n",
      "\t- Explicitly set the environment variable TOKENIZERS_PARALLELISM=(true | false)\n",
      "huggingface/tokenizers: The current process just got forked, after parallelism has already been used. Disabling parallelism to avoid deadlocks...\n",
      "To disable this warning, you can either:\n",
      "\t- Avoid using `tokenizers` before the fork if possible\n",
      "\t- Explicitly set the environment variable TOKENIZERS_PARALLELISM=(true | false)\n",
      "huggingface/tokenizers: The current process just got forked, after parallelism has already been used. Disabling parallelism to avoid deadlocks...\n",
      "To disable this warning, you can either:\n",
      "\t- Avoid using `tokenizers` before the fork if possible\n",
      "\t- Explicitly set the environment variable TOKENIZERS_PARALLELISM=(true | false)\n",
      "epoch: 9 | train_acc: 1.0\n",
      "epoch: 9 | train_acc: 0.9921875\n",
      "epoch: 9 | train_acc: 0.984375\n",
      "epoch: 9 | train_acc: 0.98046875\n",
      "epoch: 9 | train_acc: 0.98125\n",
      "epoch: 9 | train_acc: 0.9791666666666666\n",
      "epoch: 9 | train_acc: 0.9821428571428571\n",
      "epoch: 9 | train_acc: 0.98046875\n",
      "epoch: 9 | train_acc: 0.9756944444444444\n",
      "epoch: 9 | train_acc: 0.978125\n",
      "epoch: 9 | train_acc: 0.9786931818181818\n",
      "epoch: 9 | train_acc: 0.9752604166666666\n",
      "huggingface/tokenizers: The current process just got forked, after parallelism has already been used. Disabling parallelism to avoid deadlocks...\n",
      "To disable this warning, you can either:\n",
      "\t- Avoid using `tokenizers` before the fork if possible\n",
      "\t- Explicitly set the environment variable TOKENIZERS_PARALLELISM=(true | false)\n",
      "To disable this warning, you can either:\n",
      "\t- Avoid using `tokenizers` before the fork if possible\n",
      "\t- Explicitly set the environment variable TOKENIZERS_PARALLELISM=(true | false)\n",
      "epoch: 9 | train_acc: 0.9771634615384616\n"
     ]
    },
    {
     "data": {
      "application/vnd.jupyter.widget-view+json": {
       "model_id": "51fa424e6b6e4b3ea38f477f566daba3",
       "version_major": 2,
       "version_minor": 0
      },
      "text/plain": [
       "  0%|          | 0/4 [00:00<?, ?it/s]"
      ]
     },
     "metadata": {},
     "output_type": "display_data"
    },
    {
     "name": "stdout",
     "output_type": "stream",
     "text": [
      "huggingface/tokenizers: The current process just got forked, after parallelism has already been used. Disabling parallelism to avoid deadlocks...\n",
      "To disable this warning, you can either:\n",
      "\t- Avoid using `tokenizers` before the fork if possible\n",
      "\t- Explicitly set the environment variable TOKENIZERS_PARALLELISM=(true | false)\n",
      "huggingface/tokenizers: The current process just got forked, after parallelism has already been used. Disabling parallelism to avoid deadlocks...\n",
      "To disable this warning, you can either:\n",
      "\t- Avoid using `tokenizers` before the fork if possible\n",
      "\t- Explicitly set the environment variable TOKENIZERS_PARALLELISM=(true | false)\n",
      "huggingface/tokenizers: The current process just got forked, after parallelism has already been used. Disabling parallelism to avoid deadlocks...\n",
      "To disable this warning, you can either:\n",
      "\t- Avoid using `tokenizers` before the fork if possible\n",
      "\t- Explicitly set the environment variable TOKENIZERS_PARALLELISM=(true | false)\n",
      "huggingface/tokenizers: The current process just got forked, after parallelism has already been used. Disabling parallelism to avoid deadlocks...\n",
      "To disable this warning, you can either:\n",
      "\t- Avoid using `tokenizers` before the fork if possible\n",
      "\t- Explicitly set the environment variable TOKENIZERS_PARALLELISM=(true | false)\n",
      "huggingface/tokenizers: The current process just got forked, after parallelism has already been used. Disabling parallelism to avoid deadlocks...\n",
      "To disable this warning, you can either:\n",
      "\t- Avoid using `tokenizers` before the fork if possible\n",
      "huggingface/tokenizers: The current process just got forked, after parallelism has already been used. Disabling parallelism to avoid deadlocks...\n",
      "To disable this warning, you can either:\n",
      "\t- Avoid using `tokenizers` before the fork if possible\n",
      "\t- Explicitly set the environment variable TOKENIZERS_PARALLELISM=(true | false)\n",
      "epoch: 9 | test_acc: 0.47421875\n",
      "huggingface/tokenizers: The current process just got forked, after parallelism has already been used. Disabling parallelism to avoid deadlocks...\n",
      "To disable this warning, you can either:\n",
      "\t- Avoid using `tokenizers` before the fork if possible\n",
      "\t- Explicitly set the environment variable TOKENIZERS_PARALLELISM=(true | false)\n",
      "huggingface/tokenizers: The current process just got forked, after parallelism has already been used. Disabling parallelism to avoid deadlocks...\n",
      "To disable this warning, you can either:\n",
      "\t- Avoid using `tokenizers` before the fork if possible\n",
      "\t- Explicitly set the environment variable TOKENIZERS_PARALLELISM=(true | false)\n",
      "huggingface/tokenizers: The current process just got forked, after parallelism has already been used. Disabling parallelism to avoid deadlocks...\n",
      "To disable this warning, you can either:\n",
      "\t- Avoid using `tokenizers` before the fork if possible\n",
      "\t- Explicitly set the environment variable TOKENIZERS_PARALLELISM=(true | false)\n",
      "huggingface/tokenizers: The current process just got forked, after parallelism has already been used. Disabling parallelism to avoid deadlocks...\n",
      "To disable this warning, you can either:\n",
      "\t- Avoid using `tokenizers` before the fork if possible\n",
      "\t- Explicitly set the environment variable TOKENIZERS_PARALLELISM=(true | false)\n",
      "epoch: 10 | train_acc: 0.96875\n",
      "epoch: 10 | train_acc: 0.96875\n",
      "epoch: 10 | train_acc: 0.96875\n",
      "epoch: 10 | train_acc: 0.96875\n",
      "epoch: 10 | train_acc: 0.971875\n",
      "epoch: 10 | train_acc: 0.9739583333333334\n",
      "epoch: 10 | train_acc: 0.9754464285714286\n",
      "epoch: 10 | train_acc: 0.978515625\n",
      "epoch: 10 | train_acc: 0.9774305555555556\n",
      "epoch: 10 | train_acc: 0.978125\n",
      "epoch: 10 | train_acc: 0.9801136363636364\n",
      "epoch: 10 | train_acc: 0.9817708333333334\n",
      "huggingface/tokenizers: The current process just got forked, after parallelism has already been used. Disabling parallelism to avoid deadlocks...\n",
      "To disable this warning, you can either:\n",
      "\t- Avoid using `tokenizers` before the fork if possible\n",
      "\t- Explicitly set the environment variable TOKENIZERS_PARALLELISM=(true | false)\n",
      "huggingface/tokenizers: The current process just got forked, after parallelism has already been used. Disabling parallelism to avoid deadlocks...\n",
      "To disable this warning, you can either:\n",
      "\t- Avoid using `tokenizers` before the fork if possible\n",
      "\t- Explicitly set the environment variable TOKENIZERS_PARALLELISM=(true | false)\n",
      "epoch: 10 | train_acc: 0.9783653846153846\n"
     ]
    },
    {
     "data": {
      "application/vnd.jupyter.widget-view+json": {
       "model_id": "ac093870c8104453a89a003f4c5a9e26",
       "version_major": 2,
       "version_minor": 0
      },
      "text/plain": [
       "  0%|          | 0/4 [00:00<?, ?it/s]"
      ]
     },
     "metadata": {},
     "output_type": "display_data"
    },
    {
     "name": "stdout",
     "output_type": "stream",
     "text": [
      "huggingface/tokenizers: The current process just got forked, after parallelism has already been used. Disabling parallelism to avoid deadlocks...\n",
      "To disable this warning, you can either:\n",
      "\t- Avoid using `tokenizers` before the fork if possible\n",
      "\t- Explicitly set the environment variable TOKENIZERS_PARALLELISM=(true | false)\n",
      "huggingface/tokenizers: The current process just got forked, after parallelism has already been used. Disabling parallelism to avoid deadlocks...\n",
      "To disable this warning, you can either:\n",
      "\t- Avoid using `tokenizers` before the fork if possible\n",
      "\t- Explicitly set the environment variable TOKENIZERS_PARALLELISM=(true | false)\n",
      "huggingface/tokenizers: The current process just got forked, after parallelism has already been used. Disabling parallelism to avoid deadlocks...\n",
      "To disable this warning, you can either:\n",
      "\t- Avoid using `tokenizers` before the fork if possible\n",
      "\t- Explicitly set the environment variable TOKENIZERS_PARALLELISM=(true | false)\n",
      "huggingface/tokenizers: The current process just got forked, after parallelism has already been used. Disabling parallelism to avoid deadlocks...\n",
      "To disable this warning, you can either:\n",
      "\t- Avoid using `tokenizers` before the fork if possible\n",
      "\t- Explicitly set the environment variable TOKENIZERS_PARALLELISM=(true | false)\n",
      "epoch: 10 | test_acc: 0.43125\n",
      "huggingface/tokenizers: The current process just got forked, after parallelism has already been used. Disabling parallelism to avoid deadlocks...\n",
      "To disable this warning, you can either:\n",
      "\t- Avoid using `tokenizers` before the fork if possible\n",
      "\t- Explicitly set the environment variable TOKENIZERS_PARALLELISM=(true | false)\n",
      "huggingface/tokenizers: The current process just got forked, after parallelism has already been used. Disabling parallelism to avoid deadlocks...\n",
      "To disable this warning, you can either:\n",
      "\t- Avoid using `tokenizers` before the fork if possible\n",
      "\t- Explicitly set the environment variable TOKENIZERS_PARALLELISM=(true | false)\n",
      "huggingface/tokenizers: The current process just got forked, after parallelism has already been used. Disabling parallelism to avoid deadlocks...\n",
      "To disable this warning, you can either:\n",
      "\t- Avoid using `tokenizers` before the fork if possible\n",
      "\t- Explicitly set the environment variable TOKENIZERS_PARALLELISM=(true | false)\n",
      "huggingface/tokenizers: The current process just got forked, after parallelism has already been used. Disabling parallelism to avoid deadlocks...\n",
      "To disable this warning, you can either:\n",
      "\t- Avoid using `tokenizers` before the fork if possible\n",
      "\t- Explicitly set the environment variable TOKENIZERS_PARALLELISM=(true | false)\n",
      "epoch: 11 | train_acc: 0.984375\n",
      "epoch: 11 | train_acc: 0.9765625\n",
      "epoch: 11 | train_acc: 0.9791666666666666\n",
      "epoch: 11 | train_acc: 0.9765625\n",
      "epoch: 11 | train_acc: 0.98125\n",
      "epoch: 11 | train_acc: 0.9791666666666666\n",
      "epoch: 11 | train_acc: 0.9776785714285714\n",
      "epoch: 11 | train_acc: 0.97265625\n",
      "epoch: 11 | train_acc: 0.9704861111111112\n",
      "epoch: 11 | train_acc: 0.96875\n",
      "epoch: 11 | train_acc: 0.96875\n",
      "epoch: 11 | train_acc: 0.96875\n",
      "To disable this warning, you can either:\n",
      "\t- Avoid using `tokenizers` before the fork if possible\n",
      "\t- Explicitly set the environment variable TOKENIZERS_PARALLELISM=(true | false)\n",
      "epoch: 11 | train_acc: 0.9567307692307693\n"
     ]
    },
    {
     "data": {
      "application/vnd.jupyter.widget-view+json": {
       "model_id": "ec86873a86344efb9de08a1674a8650a",
       "version_major": 2,
       "version_minor": 0
      },
      "text/plain": [
       "  0%|          | 0/4 [00:00<?, ?it/s]"
      ]
     },
     "metadata": {},
     "output_type": "display_data"
    },
    {
     "name": "stdout",
     "output_type": "stream",
     "text": [
      "huggingface/tokenizers: The current process just got forked, after parallelism has already been used. Disabling parallelism to avoid deadlocks...\n",
      "To disable this warning, you can either:\n",
      "\t- Avoid using `tokenizers` before the fork if possible\n",
      "\t- Explicitly set the environment variable TOKENIZERS_PARALLELISM=(true | false)\n",
      "huggingface/tokenizers: The current process just got forked, after parallelism has already been used. Disabling parallelism to avoid deadlocks...\n",
      "To disable this warning, you can either:\n",
      "\t- Avoid using `tokenizers` before the fork if possible\n",
      "\t- Explicitly set the environment variable TOKENIZERS_PARALLELISM=(true | false)\n",
      "huggingface/tokenizers: The current process just got forked, after parallelism has already been used. Disabling parallelism to avoid deadlocks...\n",
      "To disable this warning, you can either:\n",
      "\t- Avoid using `tokenizers` before the fork if possible\n",
      "\t- Explicitly set the environment variable TOKENIZERS_PARALLELISM=(true | false)\n",
      "huggingface/tokenizers: The current process just got forked, after parallelism has already been used. Disabling parallelism to avoid deadlocks...\n",
      "To disable this warning, you can either:\n",
      "\t- Avoid using `tokenizers` before the fork if possible\n",
      "\t- Explicitly set the environment variable TOKENIZERS_PARALLELISM=(true | false)\n",
      "huggingface/tokenizers: The current process just got forked, after parallelism has already been used. Disabling parallelism to avoid deadlocks...\n",
      "To disable this warning, you can either:\n",
      "To disable this warning, you can either:\n",
      "\t- Avoid using `tokenizers` before the fork if possible\n",
      "\t- Explicitly set the environment variable TOKENIZERS_PARALLELISM=(true | false)\n",
      "epoch: 11 | test_acc: 0.44296875\n",
      "huggingface/tokenizers: The current process just got forked, after parallelism has already been used. Disabling parallelism to avoid deadlocks...\n",
      "To disable this warning, you can either:\n",
      "\t- Avoid using `tokenizers` before the fork if possible\n",
      "\t- Explicitly set the environment variable TOKENIZERS_PARALLELISM=(true | false)\n",
      "huggingface/tokenizers: The current process just got forked, after parallelism has already been used. Disabling parallelism to avoid deadlocks...\n",
      "To disable this warning, you can either:\n",
      "\t- Avoid using `tokenizers` before the fork if possible\n",
      "\t- Explicitly set the environment variable TOKENIZERS_PARALLELISM=(true | false)\n",
      "huggingface/tokenizers: The current process just got forked, after parallelism has already been used. Disabling parallelism to avoid deadlocks...\n",
      "To disable this warning, you can either:\n",
      "\t- Avoid using `tokenizers` before the fork if possible\n",
      "\t- Explicitly set the environment variable TOKENIZERS_PARALLELISM=(true | false)\n",
      "huggingface/tokenizers: The current process just got forked, after parallelism has already been used. Disabling parallelism to avoid deadlocks...\n",
      "To disable this warning, you can either:\n",
      "\t- Avoid using `tokenizers` before the fork if possible\n",
      "\t- Explicitly set the environment variable TOKENIZERS_PARALLELISM=(true | false)\n",
      "epoch: 12 | train_acc: 0.984375\n",
      "epoch: 12 | train_acc: 0.9765625\n",
      "epoch: 12 | train_acc: 0.9791666666666666\n",
      "epoch: 12 | train_acc: 0.984375\n",
      "epoch: 12 | train_acc: 0.984375\n",
      "epoch: 12 | train_acc: 0.9713541666666666\n",
      "epoch: 12 | train_acc: 0.9709821428571429\n",
      "epoch: 12 | train_acc: 0.97265625\n",
      "epoch: 12 | train_acc: 0.9704861111111112\n",
      "epoch: 12 | train_acc: 0.9734375\n",
      "epoch: 12 | train_acc: 0.9715909090909091\n",
      "epoch: 12 | train_acc: 0.9739583333333334\n",
      "huggingface/tokenizers: The current process just got forked, after parallelism has already been used. Disabling parallelism to avoid deadlocks...\n",
      "epoch: 12 | train_acc: 0.9759615384615384\n"
     ]
    },
    {
     "data": {
      "application/vnd.jupyter.widget-view+json": {
       "model_id": "5194053964a1473cb1953a3e9b8378dd",
       "version_major": 2,
       "version_minor": 0
      },
      "text/plain": [
       "  0%|          | 0/4 [00:00<?, ?it/s]"
      ]
     },
     "metadata": {},
     "output_type": "display_data"
    },
    {
     "name": "stdout",
     "output_type": "stream",
     "text": [
      "huggingface/tokenizers: The current process just got forked, after parallelism has already been used. Disabling parallelism to avoid deadlocks...\n",
      "To disable this warning, you can either:\n",
      "\t- Avoid using `tokenizers` before the fork if possible\n",
      "\t- Explicitly set the environment variable TOKENIZERS_PARALLELISM=(true | false)\n",
      "huggingface/tokenizers: The current process just got forked, after parallelism has already been used. Disabling parallelism to avoid deadlocks...\n",
      "To disable this warning, you can either:\n",
      "\t- Avoid using `tokenizers` before the fork if possible\n",
      "\t- Explicitly set the environment variable TOKENIZERS_PARALLELISM=(true | false)\n",
      "huggingface/tokenizers: The current process just got forked, after parallelism has already been used. Disabling parallelism to avoid deadlocks...\n",
      "To disable this warning, you can either:\n",
      "\t- Avoid using `tokenizers` before the fork if possible\n",
      "\t- Explicitly set the environment variable TOKENIZERS_PARALLELISM=(true | false)\n",
      "huggingface/tokenizers: The current process just got forked, after parallelism has already been used. Disabling parallelism to avoid deadlocks...\n",
      "To disable this warning, you can either:\n",
      "\t- Avoid using `tokenizers` before the fork if possible\n",
      "\t- Explicitly set the environment variable TOKENIZERS_PARALLELISM=(true | false)\n",
      "\t- Avoid using `tokenizers` before the fork if possible\n",
      "\t- Explicitly set the environment variable TOKENIZERS_PARALLELISM=(true | false)\n",
      "huggingface/tokenizers: The current process just got forked, after parallelism has already been used. Disabling parallelism to avoid deadlocks...\n",
      "To disable this warning, you can either:\n",
      "\t- Avoid using `tokenizers` before the fork if possible\n",
      "\t- Explicitly set the environment variable TOKENIZERS_PARALLELISM=(true | false)\n",
      "epoch: 12 | test_acc: 0.3359375\n",
      "huggingface/tokenizers: The current process just got forked, after parallelism has already been used. Disabling parallelism to avoid deadlocks...\n",
      "To disable this warning, you can either:\n",
      "\t- Avoid using `tokenizers` before the fork if possible\n",
      "\t- Explicitly set the environment variable TOKENIZERS_PARALLELISM=(true | false)\n",
      "huggingface/tokenizers: The current process just got forked, after parallelism has already been used. Disabling parallelism to avoid deadlocks...\n",
      "To disable this warning, you can either:\n",
      "\t- Avoid using `tokenizers` before the fork if possible\n",
      "\t- Explicitly set the environment variable TOKENIZERS_PARALLELISM=(true | false)\n",
      "huggingface/tokenizers: The current process just got forked, after parallelism has already been used. Disabling parallelism to avoid deadlocks...\n",
      "To disable this warning, you can either:\n",
      "\t- Avoid using `tokenizers` before the fork if possible\n",
      "\t- Explicitly set the environment variable TOKENIZERS_PARALLELISM=(true | false)\n",
      "huggingface/tokenizers: The current process just got forked, after parallelism has already been used. Disabling parallelism to avoid deadlocks...\n",
      "To disable this warning, you can either:\n",
      "\t- Avoid using `tokenizers` before the fork if possible\n",
      "\t- Explicitly set the environment variable TOKENIZERS_PARALLELISM=(true | false)\n",
      "epoch: 13 | train_acc: 0.984375\n",
      "epoch: 13 | train_acc: 0.9765625\n",
      "epoch: 13 | train_acc: 0.984375\n",
      "epoch: 13 | train_acc: 0.98046875\n",
      "epoch: 13 | train_acc: 0.98125\n",
      "epoch: 13 | train_acc: 0.9791666666666666\n",
      "epoch: 13 | train_acc: 0.9776785714285714\n",
      "epoch: 13 | train_acc: 0.98046875\n",
      "epoch: 13 | train_acc: 0.9809027777777778\n",
      "epoch: 13 | train_acc: 0.9828125\n",
      "epoch: 13 | train_acc: 0.9829545454545454\n",
      "epoch: 13 | train_acc: 0.984375\n",
      "huggingface/tokenizers: The current process just got forked, after parallelism has already been used. Disabling parallelism to avoid deadlocks...\n",
      "huggingface/tokenizers: The current process just got forked, after parallelism has already been used. Disabling parallelism to avoid deadlocks...\n",
      "To disable this warning, you can either:\n",
      "\t- Avoid using `tokenizers` before the fork if possible\n",
      "\t- Explicitly set the environment variable TOKENIZERS_PARALLELISM=(true | false)\n",
      "epoch: 13 | train_acc: 0.9855769230769231\n"
     ]
    },
    {
     "data": {
      "application/vnd.jupyter.widget-view+json": {
       "model_id": "c1c9f8e1fb8b42b1a34342f645101ff1",
       "version_major": 2,
       "version_minor": 0
      },
      "text/plain": [
       "  0%|          | 0/4 [00:00<?, ?it/s]"
      ]
     },
     "metadata": {},
     "output_type": "display_data"
    },
    {
     "name": "stdout",
     "output_type": "stream",
     "text": [
      "huggingface/tokenizers: The current process just got forked, after parallelism has already been used. Disabling parallelism to avoid deadlocks...\n",
      "To disable this warning, you can either:\n",
      "\t- Avoid using `tokenizers` before the fork if possible\n",
      "\t- Explicitly set the environment variable TOKENIZERS_PARALLELISM=(true | false)\n",
      "huggingface/tokenizers: The current process just got forked, after parallelism has already been used. Disabling parallelism to avoid deadlocks...\n",
      "To disable this warning, you can either:\n",
      "\t- Avoid using `tokenizers` before the fork if possible\n",
      "\t- Explicitly set the environment variable TOKENIZERS_PARALLELISM=(true | false)\n",
      "huggingface/tokenizers: The current process just got forked, after parallelism has already been used. Disabling parallelism to avoid deadlocks...\n",
      "To disable this warning, you can either:\n",
      "\t- Avoid using `tokenizers` before the fork if possible\n",
      "\t- Explicitly set the environment variable TOKENIZERS_PARALLELISM=(true | false)\n",
      "huggingface/tokenizers: The current process just got forked, after parallelism has already been used. Disabling parallelism to avoid deadlocks...\n",
      "To disable this warning, you can either:\n",
      "\t- Avoid using `tokenizers` before the fork if possible\n",
      "\t- Explicitly set the environment variable TOKENIZERS_PARALLELISM=(true | false)\n",
      "To disable this warning, you can either:\n",
      "\t- Avoid using `tokenizers` before the fork if possible\n",
      "\t- Explicitly set the environment variable TOKENIZERS_PARALLELISM=(true | false)\n",
      "huggingface/tokenizers: The current process just got forked, after parallelism has already been used. Disabling parallelism to avoid deadlocks...\n",
      "To disable this warning, you can either:\n",
      "\t- Avoid using `tokenizers` before the fork if possible\n",
      "\t- Explicitly set the environment variable TOKENIZERS_PARALLELISM=(true | false)\n",
      "epoch: 13 | test_acc: 0.40859375\n",
      "huggingface/tokenizers: The current process just got forked, after parallelism has already been used. Disabling parallelism to avoid deadlocks...\n",
      "To disable this warning, you can either:\n",
      "\t- Avoid using `tokenizers` before the fork if possible\n",
      "\t- Explicitly set the environment variable TOKENIZERS_PARALLELISM=(true | false)\n",
      "huggingface/tokenizers: The current process just got forked, after parallelism has already been used. Disabling parallelism to avoid deadlocks...\n",
      "To disable this warning, you can either:\n",
      "\t- Avoid using `tokenizers` before the fork if possible\n",
      "\t- Explicitly set the environment variable TOKENIZERS_PARALLELISM=(true | false)\n",
      "huggingface/tokenizers: The current process just got forked, after parallelism has already been used. Disabling parallelism to avoid deadlocks...\n",
      "To disable this warning, you can either:\n",
      "\t- Avoid using `tokenizers` before the fork if possible\n",
      "\t- Explicitly set the environment variable TOKENIZERS_PARALLELISM=(true | false)\n",
      "huggingface/tokenizers: The current process just got forked, after parallelism has already been used. Disabling parallelism to avoid deadlocks...\n",
      "To disable this warning, you can either:\n",
      "\t- Avoid using `tokenizers` before the fork if possible\n",
      "\t- Explicitly set the environment variable TOKENIZERS_PARALLELISM=(true | false)\n",
      "epoch: 14 | train_acc: 1.0\n",
      "epoch: 14 | train_acc: 0.9921875\n",
      "epoch: 14 | train_acc: 0.9947916666666666\n",
      "epoch: 14 | train_acc: 0.99609375\n",
      "epoch: 14 | train_acc: 0.99375\n",
      "epoch: 14 | train_acc: 0.9947916666666666\n",
      "epoch: 14 | train_acc: 0.9955357142857143\n",
      "epoch: 14 | train_acc: 0.99609375\n",
      "epoch: 14 | train_acc: 0.9965277777777778\n",
      "epoch: 14 | train_acc: 0.9953125\n",
      "epoch: 14 | train_acc: 0.9957386363636364\n",
      "epoch: 14 | train_acc: 0.99609375\n",
      "To disable this warning, you can either:\n",
      "\t- Avoid using `tokenizers` before the fork if possible\n",
      "\t- Explicitly set the environment variable TOKENIZERS_PARALLELISM=(true | false)\n",
      "epoch: 14 | train_acc: 0.9963942307692307\n"
     ]
    },
    {
     "data": {
      "application/vnd.jupyter.widget-view+json": {
       "model_id": "9f4dad518e854df7beae478eff54484c",
       "version_major": 2,
       "version_minor": 0
      },
      "text/plain": [
       "  0%|          | 0/4 [00:00<?, ?it/s]"
      ]
     },
     "metadata": {},
     "output_type": "display_data"
    },
    {
     "name": "stdout",
     "output_type": "stream",
     "text": [
      "huggingface/tokenizers: The current process just got forked, after parallelism has already been used. Disabling parallelism to avoid deadlocks...\n",
      "To disable this warning, you can either:\n",
      "\t- Avoid using `tokenizers` before the fork if possible\n",
      "\t- Explicitly set the environment variable TOKENIZERS_PARALLELISM=(true | false)\n",
      "huggingface/tokenizers: The current process just got forked, after parallelism has already been used. Disabling parallelism to avoid deadlocks...\n",
      "To disable this warning, you can either:\n",
      "\t- Avoid using `tokenizers` before the fork if possible\n",
      "\t- Explicitly set the environment variable TOKENIZERS_PARALLELISM=(true | false)\n",
      "huggingface/tokenizers: The current process just got forked, after parallelism has already been used. Disabling parallelism to avoid deadlocks...\n",
      "To disable this warning, you can either:\n",
      "\t- Avoid using `tokenizers` before the fork if possible\n",
      "\t- Explicitly set the environment variable TOKENIZERS_PARALLELISM=(true | false)\n",
      "huggingface/tokenizers: The current process just got forked, after parallelism has already been used. Disabling parallelism to avoid deadlocks...\n",
      "To disable this warning, you can either:\n",
      "\t- Avoid using `tokenizers` before the fork if possible\n",
      "\t- Explicitly set the environment variable TOKENIZERS_PARALLELISM=(true | false)\n",
      "\t- Avoid using `tokenizers` before the fork if possible\n",
      "\t- Explicitly set the environment variable TOKENIZERS_PARALLELISM=(true | false)\n",
      "To disable this warning, you can either:\n",
      "\t- Avoid using `tokenizers` before the fork if possible\n",
      "\t- Explicitly set the environment variable TOKENIZERS_PARALLELISM=(true | false)\n",
      "epoch: 14 | test_acc: 0.30859375\n",
      "huggingface/tokenizers: The current process just got forked, after parallelism has already been used. Disabling parallelism to avoid deadlocks...\n",
      "To disable this warning, you can either:\n",
      "\t- Avoid using `tokenizers` before the fork if possible\n",
      "\t- Explicitly set the environment variable TOKENIZERS_PARALLELISM=(true | false)\n",
      "huggingface/tokenizers: The current process just got forked, after parallelism has already been used. Disabling parallelism to avoid deadlocks...\n",
      "To disable this warning, you can either:\n",
      "\t- Avoid using `tokenizers` before the fork if possible\n",
      "\t- Explicitly set the environment variable TOKENIZERS_PARALLELISM=(true | false)\n",
      "huggingface/tokenizers: The current process just got forked, after parallelism has already been used. Disabling parallelism to avoid deadlocks...\n",
      "To disable this warning, you can either:\n",
      "\t- Avoid using `tokenizers` before the fork if possible\n",
      "\t- Explicitly set the environment variable TOKENIZERS_PARALLELISM=(true | false)\n",
      "huggingface/tokenizers: The current process just got forked, after parallelism has already been used. Disabling parallelism to avoid deadlocks...\n",
      "To disable this warning, you can either:\n",
      "\t- Avoid using `tokenizers` before the fork if possible\n",
      "\t- Explicitly set the environment variable TOKENIZERS_PARALLELISM=(true | false)\n",
      "epoch: 15 | train_acc: 1.0\n",
      "epoch: 15 | train_acc: 0.9921875\n",
      "epoch: 15 | train_acc: 0.9947916666666666\n",
      "epoch: 15 | train_acc: 0.99609375\n",
      "epoch: 15 | train_acc: 0.996875\n",
      "epoch: 15 | train_acc: 0.9973958333333334\n",
      "epoch: 15 | train_acc: 0.9977678571428571\n",
      "epoch: 15 | train_acc: 0.99609375\n",
      "epoch: 15 | train_acc: 0.9965277777777778\n",
      "epoch: 15 | train_acc: 0.996875\n",
      "epoch: 15 | train_acc: 0.9943181818181818\n",
      "epoch: 15 | train_acc: 0.9947916666666666\n",
      "To disable this warning, you can either:\n",
      "\t- Avoid using `tokenizers` before the fork if possible\n",
      "\t- Explicitly set the environment variable TOKENIZERS_PARALLELISM=(true | false)\n",
      "epoch: 15 | train_acc: 0.9951923076923077\n"
     ]
    },
    {
     "data": {
      "application/vnd.jupyter.widget-view+json": {
       "model_id": "b35bae5c666043c7aa99d339c05ea532",
       "version_major": 2,
       "version_minor": 0
      },
      "text/plain": [
       "  0%|          | 0/4 [00:00<?, ?it/s]"
      ]
     },
     "metadata": {},
     "output_type": "display_data"
    },
    {
     "name": "stdout",
     "output_type": "stream",
     "text": [
      "huggingface/tokenizers: The current process just got forked, after parallelism has already been used. Disabling parallelism to avoid deadlocks...\n",
      "To disable this warning, you can either:\n",
      "\t- Avoid using `tokenizers` before the fork if possible\n",
      "\t- Explicitly set the environment variable TOKENIZERS_PARALLELISM=(true | false)\n",
      "huggingface/tokenizers: The current process just got forked, after parallelism has already been used. Disabling parallelism to avoid deadlocks...\n",
      "To disable this warning, you can either:\n",
      "\t- Avoid using `tokenizers` before the fork if possible\n",
      "\t- Explicitly set the environment variable TOKENIZERS_PARALLELISM=(true | false)\n",
      "huggingface/tokenizers: The current process just got forked, after parallelism has already been used. Disabling parallelism to avoid deadlocks...\n",
      "To disable this warning, you can either:\n",
      "\t- Avoid using `tokenizers` before the fork if possible\n",
      "\t- Explicitly set the environment variable TOKENIZERS_PARALLELISM=(true | false)\n",
      "huggingface/tokenizers: The current process just got forked, after parallelism has already been used. Disabling parallelism to avoid deadlocks...\n",
      "To disable this warning, you can either:\n",
      "\t- Avoid using `tokenizers` before the fork if possible\n",
      "\t- Explicitly set the environment variable TOKENIZERS_PARALLELISM=(true | false)\n",
      "\t- Avoid using `tokenizers` before the fork if possible\n",
      "\t- Explicitly set the environment variable TOKENIZERS_PARALLELISM=(true | false)\n",
      "epoch: 15 | test_acc: 0.4203125\n",
      "huggingface/tokenizers: The current process just got forked, after parallelism has already been used. Disabling parallelism to avoid deadlocks...\n",
      "To disable this warning, you can either:\n",
      "\t- Avoid using `tokenizers` before the fork if possible\n",
      "\t- Explicitly set the environment variable TOKENIZERS_PARALLELISM=(true | false)\n",
      "huggingface/tokenizers: The current process just got forked, after parallelism has already been used. Disabling parallelism to avoid deadlocks...\n",
      "To disable this warning, you can either:\n",
      "\t- Avoid using `tokenizers` before the fork if possible\n",
      "\t- Explicitly set the environment variable TOKENIZERS_PARALLELISM=(true | false)\n",
      "huggingface/tokenizers: The current process just got forked, after parallelism has already been used. Disabling parallelism to avoid deadlocks...\n",
      "To disable this warning, you can either:\n",
      "\t- Avoid using `tokenizers` before the fork if possible\n",
      "\t- Explicitly set the environment variable TOKENIZERS_PARALLELISM=(true | false)\n",
      "huggingface/tokenizers: The current process just got forked, after parallelism has already been used. Disabling parallelism to avoid deadlocks...\n",
      "To disable this warning, you can either:\n",
      "\t- Avoid using `tokenizers` before the fork if possible\n",
      "\t- Explicitly set the environment variable TOKENIZERS_PARALLELISM=(true | false)\n",
      "epoch: 16 | train_acc: 1.0\n",
      "epoch: 16 | train_acc: 1.0\n",
      "epoch: 16 | train_acc: 1.0\n",
      "epoch: 16 | train_acc: 1.0\n",
      "epoch: 16 | train_acc: 1.0\n",
      "epoch: 16 | train_acc: 1.0\n",
      "epoch: 16 | train_acc: 1.0\n",
      "epoch: 16 | train_acc: 1.0\n",
      "epoch: 16 | train_acc: 1.0\n",
      "epoch: 16 | train_acc: 1.0\n",
      "epoch: 16 | train_acc: 1.0\n",
      "epoch: 16 | train_acc: 0.9986979166666666\n",
      "huggingface/tokenizers: The current process just got forked, after parallelism has already been used. Disabling parallelism to avoid deadlocks...\n",
      "To disable this warning, you can either:\n",
      "\t- Avoid using `tokenizers` before the fork if possible\n",
      "\t- Explicitly set the environment variable TOKENIZERS_PARALLELISM=(true | false)\n",
      "epoch: 16 | train_acc: 0.9987980769230769\n"
     ]
    },
    {
     "data": {
      "application/vnd.jupyter.widget-view+json": {
       "model_id": "688514f783cd40498c219036869cae06",
       "version_major": 2,
       "version_minor": 0
      },
      "text/plain": [
       "  0%|          | 0/4 [00:00<?, ?it/s]"
      ]
     },
     "metadata": {},
     "output_type": "display_data"
    },
    {
     "name": "stdout",
     "output_type": "stream",
     "text": [
      "huggingface/tokenizers: The current process just got forked, after parallelism has already been used. Disabling parallelism to avoid deadlocks...\n",
      "To disable this warning, you can either:\n",
      "\t- Avoid using `tokenizers` before the fork if possible\n",
      "\t- Explicitly set the environment variable TOKENIZERS_PARALLELISM=(true | false)\n",
      "huggingface/tokenizers: The current process just got forked, after parallelism has already been used. Disabling parallelism to avoid deadlocks...\n",
      "To disable this warning, you can either:\n",
      "\t- Avoid using `tokenizers` before the fork if possible\n",
      "\t- Explicitly set the environment variable TOKENIZERS_PARALLELISM=(true | false)\n",
      "huggingface/tokenizers: The current process just got forked, after parallelism has already been used. Disabling parallelism to avoid deadlocks...\n",
      "To disable this warning, you can either:\n",
      "\t- Avoid using `tokenizers` before the fork if possible\n",
      "\t- Explicitly set the environment variable TOKENIZERS_PARALLELISM=(true | false)\n",
      "huggingface/tokenizers: The current process just got forked, after parallelism has already been used. Disabling parallelism to avoid deadlocks...\n",
      "To disable this warning, you can either:\n",
      "\t- Avoid using `tokenizers` before the fork if possible\n",
      "\t- Explicitly set the environment variable TOKENIZERS_PARALLELISM=(true | false)\n",
      "To disable this warning, you can either:\n",
      "\t- Avoid using `tokenizers` before the fork if possible\n",
      "\t- Explicitly set the environment variable TOKENIZERS_PARALLELISM=(true | false)\n",
      "To disable this warning, you can either:\n",
      "\t- Avoid using `tokenizers` before the fork if possible\n",
      "\t- Explicitly set the environment variable TOKENIZERS_PARALLELISM=(true | false)\n",
      "\t- Avoid using `tokenizers` before the fork if possible\n",
      "\t- Explicitly set the environment variable TOKENIZERS_PARALLELISM=(true | false)\n",
      "epoch: 16 | test_acc: 0.4546875\n",
      "huggingface/tokenizers: The current process just got forked, after parallelism has already been used. Disabling parallelism to avoid deadlocks...\n",
      "To disable this warning, you can either:\n",
      "\t- Avoid using `tokenizers` before the fork if possible\n",
      "\t- Explicitly set the environment variable TOKENIZERS_PARALLELISM=(true | false)\n",
      "huggingface/tokenizers: The current process just got forked, after parallelism has already been used. Disabling parallelism to avoid deadlocks...\n",
      "To disable this warning, you can either:\n",
      "\t- Avoid using `tokenizers` before the fork if possible\n",
      "\t- Explicitly set the environment variable TOKENIZERS_PARALLELISM=(true | false)\n",
      "huggingface/tokenizers: The current process just got forked, after parallelism has already been used. Disabling parallelism to avoid deadlocks...\n",
      "To disable this warning, you can either:\n",
      "\t- Avoid using `tokenizers` before the fork if possible\n",
      "\t- Explicitly set the environment variable TOKENIZERS_PARALLELISM=(true | false)\n",
      "huggingface/tokenizers: The current process just got forked, after parallelism has already been used. Disabling parallelism to avoid deadlocks...\n",
      "To disable this warning, you can either:\n",
      "\t- Avoid using `tokenizers` before the fork if possible\n",
      "\t- Explicitly set the environment variable TOKENIZERS_PARALLELISM=(true | false)\n",
      "epoch: 17 | train_acc: 1.0\n",
      "epoch: 17 | train_acc: 0.9921875\n",
      "epoch: 17 | train_acc: 0.9947916666666666\n",
      "epoch: 17 | train_acc: 0.99609375\n",
      "epoch: 17 | train_acc: 0.99375\n",
      "epoch: 17 | train_acc: 0.9947916666666666\n",
      "epoch: 17 | train_acc: 0.9955357142857143\n",
      "epoch: 17 | train_acc: 0.99609375\n",
      "epoch: 17 | train_acc: 0.9965277777777778\n",
      "epoch: 17 | train_acc: 0.996875\n",
      "epoch: 17 | train_acc: 0.9971590909090909\n",
      "epoch: 17 | train_acc: 0.9973958333333334\n",
      "\t- Avoid using `tokenizers` before the fork if possible\n",
      "\t- Explicitly set the environment variable TOKENIZERS_PARALLELISM=(true | false)\n",
      "epoch: 17 | train_acc: 0.9975961538461539\n"
     ]
    },
    {
     "data": {
      "application/vnd.jupyter.widget-view+json": {
       "model_id": "f9a6f9719d88440fb96f27009009f421",
       "version_major": 2,
       "version_minor": 0
      },
      "text/plain": [
       "  0%|          | 0/4 [00:00<?, ?it/s]"
      ]
     },
     "metadata": {},
     "output_type": "display_data"
    },
    {
     "name": "stdout",
     "output_type": "stream",
     "text": [
      "huggingface/tokenizers: The current process just got forked, after parallelism has already been used. Disabling parallelism to avoid deadlocks...\n",
      "To disable this warning, you can either:\n",
      "\t- Avoid using `tokenizers` before the fork if possible\n",
      "\t- Explicitly set the environment variable TOKENIZERS_PARALLELISM=(true | false)\n",
      "huggingface/tokenizers: The current process just got forked, after parallelism has already been used. Disabling parallelism to avoid deadlocks...\n",
      "To disable this warning, you can either:\n",
      "\t- Avoid using `tokenizers` before the fork if possible\n",
      "\t- Explicitly set the environment variable TOKENIZERS_PARALLELISM=(true | false)\n",
      "huggingface/tokenizers: The current process just got forked, after parallelism has already been used. Disabling parallelism to avoid deadlocks...\n",
      "To disable this warning, you can either:\n",
      "\t- Avoid using `tokenizers` before the fork if possible\n",
      "\t- Explicitly set the environment variable TOKENIZERS_PARALLELISM=(true | false)\n",
      "huggingface/tokenizers: The current process just got forked, after parallelism has already been used. Disabling parallelism to avoid deadlocks...\n",
      "To disable this warning, you can either:\n",
      "\t- Avoid using `tokenizers` before the fork if possible\n",
      "\t- Explicitly set the environment variable TOKENIZERS_PARALLELISM=(true | false)\n",
      "huggingface/tokenizers: The current process just got forked, after parallelism has already been used. Disabling parallelism to avoid deadlocks...\n",
      "To disable this warning, you can either:\n",
      "\t- Avoid using `tokenizers` before the fork if possible\n",
      "\t- Explicitly set the environment variable TOKENIZERS_PARALLELISM=(true | false)\n",
      "huggingface/tokenizers: The current process just got forked, after parallelism has already been used. Disabling parallelism to avoid deadlocks...\n",
      "To disable this warning, you can either:\n",
      "\t- Avoid using `tokenizers` before the fork if possible\n",
      "\t- Explicitly set the environment variable TOKENIZERS_PARALLELISM=(true | false)\n",
      "To disable this warning, you can either:\n",
      "\t- Avoid using `tokenizers` before the fork if possible\n",
      "\t- Explicitly set the environment variable TOKENIZERS_PARALLELISM=(true | false)\n",
      "epoch: 17 | test_acc: 0.38203125\n",
      "huggingface/tokenizers: The current process just got forked, after parallelism has already been used. Disabling parallelism to avoid deadlocks...\n",
      "To disable this warning, you can either:\n",
      "\t- Avoid using `tokenizers` before the fork if possible\n",
      "\t- Explicitly set the environment variable TOKENIZERS_PARALLELISM=(true | false)\n",
      "huggingface/tokenizers: The current process just got forked, after parallelism has already been used. Disabling parallelism to avoid deadlocks...\n",
      "To disable this warning, you can either:\n",
      "\t- Avoid using `tokenizers` before the fork if possible\n",
      "\t- Explicitly set the environment variable TOKENIZERS_PARALLELISM=(true | false)\n",
      "huggingface/tokenizers: The current process just got forked, after parallelism has already been used. Disabling parallelism to avoid deadlocks...\n",
      "To disable this warning, you can either:\n",
      "\t- Avoid using `tokenizers` before the fork if possible\n",
      "\t- Explicitly set the environment variable TOKENIZERS_PARALLELISM=(true | false)\n",
      "huggingface/tokenizers: The current process just got forked, after parallelism has already been used. Disabling parallelism to avoid deadlocks...\n",
      "To disable this warning, you can either:\n",
      "\t- Avoid using `tokenizers` before the fork if possible\n",
      "\t- Explicitly set the environment variable TOKENIZERS_PARALLELISM=(true | false)\n",
      "epoch: 18 | train_acc: 1.0\n",
      "epoch: 18 | train_acc: 1.0\n",
      "epoch: 18 | train_acc: 1.0\n",
      "epoch: 18 | train_acc: 1.0\n",
      "epoch: 18 | train_acc: 1.0\n",
      "epoch: 18 | train_acc: 1.0\n",
      "epoch: 18 | train_acc: 1.0\n",
      "epoch: 18 | train_acc: 1.0\n",
      "epoch: 18 | train_acc: 1.0\n",
      "epoch: 18 | train_acc: 1.0\n",
      "epoch: 18 | train_acc: 1.0\n",
      "epoch: 18 | train_acc: 0.9986979166666666\n",
      "huggingface/tokenizers: The current process just got forked, after parallelism has already been used. Disabling parallelism to avoid deadlocks...\n",
      "huggingface/tokenizers: The current process just got forked, after parallelism has already been used. Disabling parallelism to avoid deadlocks...\n",
      "To disable this warning, you can either:\n",
      "\t- Avoid using `tokenizers` before the fork if possible\n",
      "\t- Explicitly set the environment variable TOKENIZERS_PARALLELISM=(true | false)\n",
      "epoch: 18 | train_acc: 0.9987980769230769\n"
     ]
    },
    {
     "data": {
      "application/vnd.jupyter.widget-view+json": {
       "model_id": "3f2a6c561288476484c203815a595c1b",
       "version_major": 2,
       "version_minor": 0
      },
      "text/plain": [
       "  0%|          | 0/4 [00:00<?, ?it/s]"
      ]
     },
     "metadata": {},
     "output_type": "display_data"
    },
    {
     "name": "stdout",
     "output_type": "stream",
     "text": [
      "huggingface/tokenizers: The current process just got forked, after parallelism has already been used. Disabling parallelism to avoid deadlocks...\n",
      "To disable this warning, you can either:\n",
      "\t- Avoid using `tokenizers` before the fork if possible\n",
      "\t- Explicitly set the environment variable TOKENIZERS_PARALLELISM=(true | false)\n",
      "huggingface/tokenizers: The current process just got forked, after parallelism has already been used. Disabling parallelism to avoid deadlocks...\n",
      "To disable this warning, you can either:\n",
      "\t- Avoid using `tokenizers` before the fork if possible\n",
      "\t- Explicitly set the environment variable TOKENIZERS_PARALLELISM=(true | false)\n",
      "huggingface/tokenizers: The current process just got forked, after parallelism has already been used. Disabling parallelism to avoid deadlocks...\n",
      "To disable this warning, you can either:\n",
      "\t- Avoid using `tokenizers` before the fork if possible\n",
      "\t- Explicitly set the environment variable TOKENIZERS_PARALLELISM=(true | false)\n",
      "huggingface/tokenizers: The current process just got forked, after parallelism has already been used. Disabling parallelism to avoid deadlocks...\n",
      "To disable this warning, you can either:\n",
      "\t- Avoid using `tokenizers` before the fork if possible\n",
      "\t- Explicitly set the environment variable TOKENIZERS_PARALLELISM=(true | false)\n",
      "huggingface/tokenizers: The current process just got forked, after parallelism has already been used. Disabling parallelism to avoid deadlocks...\n",
      "To disable this warning, you can either:\n",
      "\t- Avoid using `tokenizers` before the fork if possible\n",
      "\t- Explicitly set the environment variable TOKENIZERS_PARALLELISM=(true | false)\n",
      "epoch: 18 | test_acc: 0.446875\n",
      "huggingface/tokenizers: The current process just got forked, after parallelism has already been used. Disabling parallelism to avoid deadlocks...\n",
      "To disable this warning, you can either:\n",
      "\t- Avoid using `tokenizers` before the fork if possible\n",
      "\t- Explicitly set the environment variable TOKENIZERS_PARALLELISM=(true | false)\n",
      "huggingface/tokenizers: The current process just got forked, after parallelism has already been used. Disabling parallelism to avoid deadlocks...\n",
      "To disable this warning, you can either:\n",
      "\t- Avoid using `tokenizers` before the fork if possible\n",
      "\t- Explicitly set the environment variable TOKENIZERS_PARALLELISM=(true | false)\n",
      "huggingface/tokenizers: The current process just got forked, after parallelism has already been used. Disabling parallelism to avoid deadlocks...\n",
      "To disable this warning, you can either:\n",
      "\t- Avoid using `tokenizers` before the fork if possible\n",
      "\t- Explicitly set the environment variable TOKENIZERS_PARALLELISM=(true | false)\n",
      "huggingface/tokenizers: The current process just got forked, after parallelism has already been used. Disabling parallelism to avoid deadlocks...\n",
      "To disable this warning, you can either:\n",
      "\t- Avoid using `tokenizers` before the fork if possible\n",
      "\t- Explicitly set the environment variable TOKENIZERS_PARALLELISM=(true | false)\n",
      "epoch: 19 | train_acc: 1.0\n",
      "epoch: 19 | train_acc: 1.0\n",
      "epoch: 19 | train_acc: 1.0\n",
      "epoch: 19 | train_acc: 1.0\n",
      "epoch: 19 | train_acc: 1.0\n",
      "epoch: 19 | train_acc: 0.9973958333333334\n",
      "epoch: 19 | train_acc: 0.9977678571428571\n",
      "epoch: 19 | train_acc: 0.99609375\n",
      "epoch: 19 | train_acc: 0.9965277777777778\n",
      "epoch: 19 | train_acc: 0.996875\n",
      "epoch: 19 | train_acc: 0.9971590909090909\n",
      "epoch: 19 | train_acc: 0.9973958333333334\n",
      "huggingface/tokenizers: The current process just got forked, after parallelism has already been used. Disabling parallelism to avoid deadlocks...\n",
      "To disable this warning, you can either:\n",
      "\t- Avoid using `tokenizers` before the fork if possible\n",
      "\t- Explicitly set the environment variable TOKENIZERS_PARALLELISM=(true | false)\n",
      "epoch: 19 | train_acc: 0.9975961538461539\n"
     ]
    },
    {
     "data": {
      "application/vnd.jupyter.widget-view+json": {
       "model_id": "2cee78f854614d7d92d8f7c84dfd5310",
       "version_major": 2,
       "version_minor": 0
      },
      "text/plain": [
       "  0%|          | 0/4 [00:00<?, ?it/s]"
      ]
     },
     "metadata": {},
     "output_type": "display_data"
    },
    {
     "name": "stdout",
     "output_type": "stream",
     "text": [
      "huggingface/tokenizers: The current process just got forked, after parallelism has already been used. Disabling parallelism to avoid deadlocks...\n",
      "To disable this warning, you can either:\n",
      "\t- Avoid using `tokenizers` before the fork if possible\n",
      "\t- Explicitly set the environment variable TOKENIZERS_PARALLELISM=(true | false)\n",
      "huggingface/tokenizers: The current process just got forked, after parallelism has already been used. Disabling parallelism to avoid deadlocks...\n",
      "To disable this warning, you can either:\n",
      "\t- Avoid using `tokenizers` before the fork if possible\n",
      "\t- Explicitly set the environment variable TOKENIZERS_PARALLELISM=(true | false)\n",
      "huggingface/tokenizers: The current process just got forked, after parallelism has already been used. Disabling parallelism to avoid deadlocks...\n",
      "To disable this warning, you can either:\n",
      "\t- Avoid using `tokenizers` before the fork if possible\n",
      "\t- Explicitly set the environment variable TOKENIZERS_PARALLELISM=(true | false)\n",
      "huggingface/tokenizers: The current process just got forked, after parallelism has already been used. Disabling parallelism to avoid deadlocks...\n",
      "To disable this warning, you can either:\n",
      "\t- Avoid using `tokenizers` before the fork if possible\n",
      "\t- Explicitly set the environment variable TOKENIZERS_PARALLELISM=(true | false)\n",
      "huggingface/tokenizers: The current process just got forked, after parallelism has already been used. Disabling parallelism to avoid deadlocks...\n",
      "\t- Explicitly set the environment variable TOKENIZERS_PARALLELISM=(true | false)\n",
      "epoch: 19 | test_acc: 0.3203125\n",
      "huggingface/tokenizers: The current process just got forked, after parallelism has already been used. Disabling parallelism to avoid deadlocks...\n",
      "To disable this warning, you can either:\n",
      "\t- Avoid using `tokenizers` before the fork if possible\n",
      "\t- Explicitly set the environment variable TOKENIZERS_PARALLELISM=(true | false)\n",
      "huggingface/tokenizers: The current process just got forked, after parallelism has already been used. Disabling parallelism to avoid deadlocks...\n",
      "To disable this warning, you can either:\n",
      "\t- Avoid using `tokenizers` before the fork if possible\n",
      "\t- Explicitly set the environment variable TOKENIZERS_PARALLELISM=(true | false)\n",
      "huggingface/tokenizers: The current process just got forked, after parallelism has already been used. Disabling parallelism to avoid deadlocks...\n",
      "To disable this warning, you can either:\n",
      "\t- Avoid using `tokenizers` before the fork if possible\n",
      "\t- Explicitly set the environment variable TOKENIZERS_PARALLELISM=(true | false)\n",
      "huggingface/tokenizers: The current process just got forked, after parallelism has already been used. Disabling parallelism to avoid deadlocks...\n",
      "To disable this warning, you can either:\n",
      "\t- Avoid using `tokenizers` before the fork if possible\n",
      "\t- Explicitly set the environment variable TOKENIZERS_PARALLELISM=(true | false)\n",
      "epoch: 20 | train_acc: 1.0\n",
      "epoch: 20 | train_acc: 1.0\n",
      "epoch: 20 | train_acc: 1.0\n",
      "epoch: 20 | train_acc: 1.0\n",
      "epoch: 20 | train_acc: 1.0\n",
      "epoch: 20 | train_acc: 1.0\n",
      "epoch: 20 | train_acc: 0.9977678571428571\n",
      "epoch: 20 | train_acc: 0.998046875\n",
      "epoch: 20 | train_acc: 0.9982638888888888\n",
      "epoch: 20 | train_acc: 0.9984375\n",
      "epoch: 20 | train_acc: 0.9985795454545454\n",
      "epoch: 20 | train_acc: 0.9986979166666666\n",
      "\t- Explicitly set the environment variable TOKENIZERS_PARALLELISM=(true | false)\n",
      "epoch: 20 | train_acc: 0.9987980769230769\n"
     ]
    },
    {
     "data": {
      "application/vnd.jupyter.widget-view+json": {
       "model_id": "fdb62c6851694170b3c92e946524b939",
       "version_major": 2,
       "version_minor": 0
      },
      "text/plain": [
       "  0%|          | 0/4 [00:00<?, ?it/s]"
      ]
     },
     "metadata": {},
     "output_type": "display_data"
    },
    {
     "name": "stdout",
     "output_type": "stream",
     "text": [
      "huggingface/tokenizers: The current process just got forked, after parallelism has already been used. Disabling parallelism to avoid deadlocks...\n",
      "To disable this warning, you can either:\n",
      "\t- Avoid using `tokenizers` before the fork if possible\n",
      "\t- Explicitly set the environment variable TOKENIZERS_PARALLELISM=(true | false)\n",
      "huggingface/tokenizers: The current process just got forked, after parallelism has already been used. Disabling parallelism to avoid deadlocks...\n",
      "To disable this warning, you can either:\n",
      "\t- Avoid using `tokenizers` before the fork if possible\n",
      "\t- Explicitly set the environment variable TOKENIZERS_PARALLELISM=(true | false)\n",
      "huggingface/tokenizers: The current process just got forked, after parallelism has already been used. Disabling parallelism to avoid deadlocks...\n",
      "To disable this warning, you can either:\n",
      "\t- Avoid using `tokenizers` before the fork if possible\n",
      "\t- Explicitly set the environment variable TOKENIZERS_PARALLELISM=(true | false)\n",
      "huggingface/tokenizers: The current process just got forked, after parallelism has already been used. Disabling parallelism to avoid deadlocks...\n",
      "To disable this warning, you can either:\n",
      "\t- Avoid using `tokenizers` before the fork if possible\n",
      "\t- Explicitly set the environment variable TOKENIZERS_PARALLELISM=(true | false)\n",
      "huggingface/tokenizers: The current process just got forked, after parallelism has already been used. Disabling parallelism to avoid deadlocks...\n",
      "To disable this warning, you can either:\n",
      "\t- Avoid using `tokenizers` before the fork if possible\n",
      "\t- Explicitly set the environment variable TOKENIZERS_PARALLELISM=(true | false)\n",
      "epoch: 20 | test_acc: 0.41640625\n",
      "huggingface/tokenizers: The current process just got forked, after parallelism has already been used. Disabling parallelism to avoid deadlocks...\n",
      "To disable this warning, you can either:\n",
      "\t- Avoid using `tokenizers` before the fork if possible\n",
      "\t- Explicitly set the environment variable TOKENIZERS_PARALLELISM=(true | false)\n",
      "huggingface/tokenizers: The current process just got forked, after parallelism has already been used. Disabling parallelism to avoid deadlocks...\n",
      "To disable this warning, you can either:\n",
      "\t- Avoid using `tokenizers` before the fork if possible\n",
      "\t- Explicitly set the environment variable TOKENIZERS_PARALLELISM=(true | false)\n",
      "huggingface/tokenizers: The current process just got forked, after parallelism has already been used. Disabling parallelism to avoid deadlocks...\n",
      "To disable this warning, you can either:\n",
      "\t- Avoid using `tokenizers` before the fork if possible\n",
      "\t- Explicitly set the environment variable TOKENIZERS_PARALLELISM=(true | false)\n",
      "huggingface/tokenizers: The current process just got forked, after parallelism has already been used. Disabling parallelism to avoid deadlocks...\n",
      "To disable this warning, you can either:\n",
      "\t- Avoid using `tokenizers` before the fork if possible\n",
      "\t- Explicitly set the environment variable TOKENIZERS_PARALLELISM=(true | false)\n",
      "epoch: 21 | train_acc: 1.0\n",
      "epoch: 21 | train_acc: 1.0\n",
      "epoch: 21 | train_acc: 1.0\n",
      "epoch: 21 | train_acc: 1.0\n",
      "epoch: 21 | train_acc: 1.0\n",
      "epoch: 21 | train_acc: 0.9973958333333334\n",
      "epoch: 21 | train_acc: 0.9977678571428571\n",
      "epoch: 21 | train_acc: 0.998046875\n",
      "epoch: 21 | train_acc: 0.9982638888888888\n",
      "epoch: 21 | train_acc: 0.9984375\n",
      "epoch: 21 | train_acc: 0.9985795454545454\n",
      "epoch: 21 | train_acc: 0.9986979166666666\n",
      "epoch: 21 | train_acc: 0.9987980769230769\n"
     ]
    },
    {
     "data": {
      "application/vnd.jupyter.widget-view+json": {
       "model_id": "4a5f9e9ee4064080af442b31ee6c59ea",
       "version_major": 2,
       "version_minor": 0
      },
      "text/plain": [
       "  0%|          | 0/4 [00:00<?, ?it/s]"
      ]
     },
     "metadata": {},
     "output_type": "display_data"
    },
    {
     "name": "stdout",
     "output_type": "stream",
     "text": [
      "huggingface/tokenizers: The current process just got forked, after parallelism has already been used. Disabling parallelism to avoid deadlocks...\n",
      "To disable this warning, you can either:\n",
      "\t- Avoid using `tokenizers` before the fork if possible\n",
      "\t- Explicitly set the environment variable TOKENIZERS_PARALLELISM=(true | false)\n",
      "huggingface/tokenizers: The current process just got forked, after parallelism has already been used. Disabling parallelism to avoid deadlocks...\n",
      "To disable this warning, you can either:\n",
      "\t- Avoid using `tokenizers` before the fork if possible\n",
      "\t- Explicitly set the environment variable TOKENIZERS_PARALLELISM=(true | false)\n",
      "huggingface/tokenizers: The current process just got forked, after parallelism has already been used. Disabling parallelism to avoid deadlocks...\n",
      "To disable this warning, you can either:\n",
      "\t- Avoid using `tokenizers` before the fork if possible\n",
      "\t- Explicitly set the environment variable TOKENIZERS_PARALLELISM=(true | false)\n",
      "huggingface/tokenizers: The current process just got forked, after parallelism has already been used. Disabling parallelism to avoid deadlocks...\n",
      "To disable this warning, you can either:\n",
      "\t- Avoid using `tokenizers` before the fork if possible\n",
      "\t- Explicitly set the environment variable TOKENIZERS_PARALLELISM=(true | false)\n",
      "huggingface/tokenizers: The current process just got forked, after parallelism has already been used. Disabling parallelism to avoid deadlocks...\n",
      "To disable this warning, you can either:\n",
      "\t- Avoid using `tokenizers` before the fork if possible\n",
      "\t- Explicitly set the environment variable TOKENIZERS_PARALLELISM=(true | false)\n",
      "huggingface/tokenizers: The current process just got forked, after parallelism has already been used. Disabling parallelism to avoid deadlocks...\n",
      "To disable this warning, you can either:\n",
      "\t- Avoid using `tokenizers` before the fork if possible\n",
      "\t- Explicitly set the environment variable TOKENIZERS_PARALLELISM=(true | false)\n",
      "epoch: 21 | test_acc: 0.446875\n",
      "huggingface/tokenizers: The current process just got forked, after parallelism has already been used. Disabling parallelism to avoid deadlocks...\n",
      "To disable this warning, you can either:\n",
      "\t- Avoid using `tokenizers` before the fork if possible\n",
      "\t- Explicitly set the environment variable TOKENIZERS_PARALLELISM=(true | false)\n",
      "huggingface/tokenizers: The current process just got forked, after parallelism has already been used. Disabling parallelism to avoid deadlocks...\n",
      "To disable this warning, you can either:\n",
      "\t- Avoid using `tokenizers` before the fork if possible\n",
      "\t- Explicitly set the environment variable TOKENIZERS_PARALLELISM=(true | false)\n",
      "huggingface/tokenizers: The current process just got forked, after parallelism has already been used. Disabling parallelism to avoid deadlocks...\n",
      "To disable this warning, you can either:\n",
      "\t- Avoid using `tokenizers` before the fork if possible\n",
      "\t- Explicitly set the environment variable TOKENIZERS_PARALLELISM=(true | false)\n",
      "huggingface/tokenizers: The current process just got forked, after parallelism has already been used. Disabling parallelism to avoid deadlocks...\n",
      "To disable this warning, you can either:\n",
      "\t- Avoid using `tokenizers` before the fork if possible\n",
      "\t- Explicitly set the environment variable TOKENIZERS_PARALLELISM=(true | false)\n",
      "epoch: 22 | train_acc: 1.0\n",
      "epoch: 22 | train_acc: 1.0\n",
      "epoch: 22 | train_acc: 1.0\n",
      "epoch: 22 | train_acc: 0.99609375\n",
      "epoch: 22 | train_acc: 0.996875\n",
      "epoch: 22 | train_acc: 0.9973958333333334\n",
      "epoch: 22 | train_acc: 0.9977678571428571\n",
      "epoch: 22 | train_acc: 0.998046875\n",
      "epoch: 22 | train_acc: 0.9982638888888888\n",
      "epoch: 22 | train_acc: 0.9984375\n",
      "epoch: 22 | train_acc: 0.9985795454545454\n",
      "epoch: 22 | train_acc: 0.9986979166666666\n",
      "epoch: 22 | train_acc: 0.9987980769230769\n"
     ]
    },
    {
     "data": {
      "application/vnd.jupyter.widget-view+json": {
       "model_id": "eaafa205b9ce4e6ba2f748d1509bd1a6",
       "version_major": 2,
       "version_minor": 0
      },
      "text/plain": [
       "  0%|          | 0/4 [00:00<?, ?it/s]"
      ]
     },
     "metadata": {},
     "output_type": "display_data"
    },
    {
     "name": "stdout",
     "output_type": "stream",
     "text": [
      "huggingface/tokenizers: The current process just got forked, after parallelism has already been used. Disabling parallelism to avoid deadlocks...\n",
      "To disable this warning, you can either:\n",
      "\t- Avoid using `tokenizers` before the fork if possible\n",
      "\t- Explicitly set the environment variable TOKENIZERS_PARALLELISM=(true | false)\n",
      "huggingface/tokenizers: The current process just got forked, after parallelism has already been used. Disabling parallelism to avoid deadlocks...\n",
      "To disable this warning, you can either:\n",
      "\t- Avoid using `tokenizers` before the fork if possible\n",
      "\t- Explicitly set the environment variable TOKENIZERS_PARALLELISM=(true | false)\n",
      "huggingface/tokenizers: The current process just got forked, after parallelism has already been used. Disabling parallelism to avoid deadlocks...\n",
      "To disable this warning, you can either:\n",
      "\t- Avoid using `tokenizers` before the fork if possible\n",
      "\t- Explicitly set the environment variable TOKENIZERS_PARALLELISM=(true | false)\n",
      "huggingface/tokenizers: The current process just got forked, after parallelism has already been used. Disabling parallelism to avoid deadlocks...\n",
      "To disable this warning, you can either:\n",
      "\t- Avoid using `tokenizers` before the fork if possible\n",
      "\t- Explicitly set the environment variable TOKENIZERS_PARALLELISM=(true | false)\n",
      "huggingface/tokenizers: The current process just got forked, after parallelism has already been used. Disabling parallelism to avoid deadlocks...\n",
      "To disable this warning, you can either:\n",
      "\t- Avoid using `tokenizers` before the fork if possible\n",
      "\t- Explicitly set the environment variable TOKENIZERS_PARALLELISM=(true | false)\n",
      "huggingface/tokenizers: The current process just got forked, after parallelism has already been used. Disabling parallelism to avoid deadlocks...\n",
      "To disable this warning, you can either:\n",
      "\t- Avoid using `tokenizers` before the fork if possible\n",
      "\t- Explicitly set the environment variable TOKENIZERS_PARALLELISM=(true | false)\n",
      "epoch: 22 | test_acc: 0.346875\n",
      "huggingface/tokenizers: The current process just got forked, after parallelism has already been used. Disabling parallelism to avoid deadlocks...\n",
      "To disable this warning, you can either:\n",
      "\t- Avoid using `tokenizers` before the fork if possible\n",
      "\t- Explicitly set the environment variable TOKENIZERS_PARALLELISM=(true | false)\n",
      "huggingface/tokenizers: The current process just got forked, after parallelism has already been used. Disabling parallelism to avoid deadlocks...\n",
      "To disable this warning, you can either:\n",
      "\t- Avoid using `tokenizers` before the fork if possible\n",
      "\t- Explicitly set the environment variable TOKENIZERS_PARALLELISM=(true | false)\n",
      "huggingface/tokenizers: The current process just got forked, after parallelism has already been used. Disabling parallelism to avoid deadlocks...\n",
      "To disable this warning, you can either:\n",
      "\t- Avoid using `tokenizers` before the fork if possible\n",
      "\t- Explicitly set the environment variable TOKENIZERS_PARALLELISM=(true | false)\n",
      "huggingface/tokenizers: The current process just got forked, after parallelism has already been used. Disabling parallelism to avoid deadlocks...\n",
      "To disable this warning, you can either:\n",
      "\t- Avoid using `tokenizers` before the fork if possible\n",
      "\t- Explicitly set the environment variable TOKENIZERS_PARALLELISM=(true | false)\n",
      "epoch: 23 | train_acc: 1.0\n",
      "epoch: 23 | train_acc: 1.0\n",
      "epoch: 23 | train_acc: 1.0\n",
      "epoch: 23 | train_acc: 1.0\n",
      "epoch: 23 | train_acc: 1.0\n",
      "epoch: 23 | train_acc: 1.0\n",
      "epoch: 23 | train_acc: 1.0\n",
      "epoch: 23 | train_acc: 1.0\n",
      "epoch: 23 | train_acc: 1.0\n",
      "epoch: 23 | train_acc: 1.0\n",
      "epoch: 23 | train_acc: 0.9985795454545454\n",
      "epoch: 23 | train_acc: 0.9986979166666666\n",
      "To disable this warning, you can either:\n",
      "\t- Avoid using `tokenizers` before the fork if possible\n",
      "\t- Explicitly set the environment variable TOKENIZERS_PARALLELISM=(true | false)\n",
      "huggingface/tokenizers: The current process just got forked, after parallelism has already been used. Disabling parallelism to avoid deadlocks...\n",
      "To disable this warning, you can either:\n",
      "\t- Avoid using `tokenizers` before the fork if possible\n",
      "\t- Explicitly set the environment variable TOKENIZERS_PARALLELISM=(true | false)\n",
      "epoch: 23 | train_acc: 0.9987980769230769\n"
     ]
    },
    {
     "data": {
      "application/vnd.jupyter.widget-view+json": {
       "model_id": "a361ca14d70d48049b912815b8a01bd8",
       "version_major": 2,
       "version_minor": 0
      },
      "text/plain": [
       "  0%|          | 0/4 [00:00<?, ?it/s]"
      ]
     },
     "metadata": {},
     "output_type": "display_data"
    },
    {
     "name": "stdout",
     "output_type": "stream",
     "text": [
      "huggingface/tokenizers: The current process just got forked, after parallelism has already been used. Disabling parallelism to avoid deadlocks...\n",
      "To disable this warning, you can either:\n",
      "\t- Avoid using `tokenizers` before the fork if possible\n",
      "\t- Explicitly set the environment variable TOKENIZERS_PARALLELISM=(true | false)\n",
      "huggingface/tokenizers: The current process just got forked, after parallelism has already been used. Disabling parallelism to avoid deadlocks...\n",
      "To disable this warning, you can either:\n",
      "\t- Avoid using `tokenizers` before the fork if possible\n",
      "\t- Explicitly set the environment variable TOKENIZERS_PARALLELISM=(true | false)\n",
      "huggingface/tokenizers: The current process just got forked, after parallelism has already been used. Disabling parallelism to avoid deadlocks...\n",
      "To disable this warning, you can either:\n",
      "\t- Avoid using `tokenizers` before the fork if possible\n",
      "\t- Explicitly set the environment variable TOKENIZERS_PARALLELISM=(true | false)\n",
      "huggingface/tokenizers: The current process just got forked, after parallelism has already been used. Disabling parallelism to avoid deadlocks...\n",
      "To disable this warning, you can either:\n",
      "\t- Avoid using `tokenizers` before the fork if possible\n",
      "\t- Explicitly set the environment variable TOKENIZERS_PARALLELISM=(true | false)\n",
      "\t- Avoid using `tokenizers` before the fork if possible\n",
      "\t- Explicitly set the environment variable TOKENIZERS_PARALLELISM=(true | false)\n",
      "\t- Avoid using `tokenizers` before the fork if possible\n",
      "\t- Explicitly set the environment variable TOKENIZERS_PARALLELISM=(true | false)\n",
      "epoch: 23 | test_acc: 0.4390625\n",
      "huggingface/tokenizers: The current process just got forked, after parallelism has already been used. Disabling parallelism to avoid deadlocks...\n",
      "To disable this warning, you can either:\n",
      "\t- Avoid using `tokenizers` before the fork if possible\n",
      "\t- Explicitly set the environment variable TOKENIZERS_PARALLELISM=(true | false)\n",
      "huggingface/tokenizers: The current process just got forked, after parallelism has already been used. Disabling parallelism to avoid deadlocks...\n",
      "To disable this warning, you can either:\n",
      "\t- Avoid using `tokenizers` before the fork if possible\n",
      "\t- Explicitly set the environment variable TOKENIZERS_PARALLELISM=(true | false)\n",
      "huggingface/tokenizers: The current process just got forked, after parallelism has already been used. Disabling parallelism to avoid deadlocks...\n",
      "To disable this warning, you can either:\n",
      "\t- Avoid using `tokenizers` before the fork if possible\n",
      "\t- Explicitly set the environment variable TOKENIZERS_PARALLELISM=(true | false)\n",
      "huggingface/tokenizers: The current process just got forked, after parallelism has already been used. Disabling parallelism to avoid deadlocks...\n",
      "To disable this warning, you can either:\n",
      "\t- Avoid using `tokenizers` before the fork if possible\n",
      "\t- Explicitly set the environment variable TOKENIZERS_PARALLELISM=(true | false)\n",
      "epoch: 24 | train_acc: 1.0\n",
      "epoch: 24 | train_acc: 1.0\n",
      "epoch: 24 | train_acc: 1.0\n",
      "epoch: 24 | train_acc: 1.0\n",
      "epoch: 24 | train_acc: 0.996875\n",
      "epoch: 24 | train_acc: 0.9973958333333334\n",
      "epoch: 24 | train_acc: 0.9977678571428571\n",
      "epoch: 24 | train_acc: 0.998046875\n",
      "epoch: 24 | train_acc: 0.9982638888888888\n",
      "epoch: 24 | train_acc: 0.9984375\n",
      "epoch: 24 | train_acc: 0.9985795454545454\n",
      "epoch: 24 | train_acc: 0.9986979166666666\n",
      "To disable this warning, you can either:\n",
      "\t- Avoid using `tokenizers` before the fork if possible\n",
      "\t- Explicitly set the environment variable TOKENIZERS_PARALLELISM=(true | false)\n",
      "epoch: 24 | train_acc: 0.9987980769230769\n"
     ]
    },
    {
     "data": {
      "application/vnd.jupyter.widget-view+json": {
       "model_id": "ec799c0a003842eeb98376f12a983eb7",
       "version_major": 2,
       "version_minor": 0
      },
      "text/plain": [
       "  0%|          | 0/4 [00:00<?, ?it/s]"
      ]
     },
     "metadata": {},
     "output_type": "display_data"
    },
    {
     "name": "stdout",
     "output_type": "stream",
     "text": [
      "huggingface/tokenizers: The current process just got forked, after parallelism has already been used. Disabling parallelism to avoid deadlocks...\n",
      "To disable this warning, you can either:\n",
      "\t- Avoid using `tokenizers` before the fork if possible\n",
      "\t- Explicitly set the environment variable TOKENIZERS_PARALLELISM=(true | false)\n",
      "huggingface/tokenizers: The current process just got forked, after parallelism has already been used. Disabling parallelism to avoid deadlocks...\n",
      "To disable this warning, you can either:\n",
      "\t- Avoid using `tokenizers` before the fork if possible\n",
      "\t- Explicitly set the environment variable TOKENIZERS_PARALLELISM=(true | false)\n",
      "huggingface/tokenizers: The current process just got forked, after parallelism has already been used. Disabling parallelism to avoid deadlocks...\n",
      "To disable this warning, you can either:\n",
      "\t- Avoid using `tokenizers` before the fork if possible\n",
      "\t- Explicitly set the environment variable TOKENIZERS_PARALLELISM=(true | false)\n",
      "huggingface/tokenizers: The current process just got forked, after parallelism has already been used. Disabling parallelism to avoid deadlocks...\n",
      "To disable this warning, you can either:\n",
      "\t- Avoid using `tokenizers` before the fork if possible\n",
      "\t- Explicitly set the environment variable TOKENIZERS_PARALLELISM=(true | false)\n",
      "To disable this warning, you can either:\n",
      "\t- Avoid using `tokenizers` before the fork if possible\n",
      "\t- Explicitly set the environment variable TOKENIZERS_PARALLELISM=(true | false)\n",
      "To disable this warning, you can either:\n",
      "\t- Avoid using `tokenizers` before the fork if possible\n",
      "\t- Explicitly set the environment variable TOKENIZERS_PARALLELISM=(true | false)\n",
      "huggingface/tokenizers: The current process just got forked, after parallelism has already been used. Disabling parallelism to avoid deadlocks...\n",
      "To disable this warning, you can either:\n",
      "\t- Avoid using `tokenizers` before the fork if possible\n",
      "\t- Explicitly set the environment variable TOKENIZERS_PARALLELISM=(true | false)\n",
      "epoch: 24 | test_acc: 0.4390625\n"
     ]
    }
   ],
   "source": [
    "for epoch in range(config['num_epochs']):\n",
    "    train_acc = 0.0\n",
    "    test_acc = 0.0\n",
    "    train_f1 = 0.0\n",
    "    test_f1 = 0.0\n",
    "    \n",
    "    model.train()\n",
    "    for batch_id, (token_ids, valid_length, segment_ids, label) in enumerate(train_dataloader):\n",
    "        optimizer.zero_grad()\n",
    "        token_ids = token_ids.long().to(device)\n",
    "        segment_ids = segment_ids.long().to(device)\n",
    "        valid_length= valid_length\n",
    "        label = label.long().to(device)\n",
    "        out = model(token_ids, valid_length, segment_ids)\n",
    "        loss = loss_fn(out, label)\n",
    "        loss.backward()\n",
    "        torch.nn.utils.clip_grad_norm_(model.parameters(), config['max_grad_norm'])\n",
    "        optimizer.step()\n",
    "        scheduler.step()  # Update learning rate schedule\n",
    "        train_acc += calc_accuracy(out, label)\n",
    "        # train_f1 += calc_f1(out, label)\n",
    "        print(f'epoch: {epoch} | train_acc: {train_acc / (batch_id+1)}')\n",
    "        \n",
    "    model.eval()\n",
    "    for batch_id, (token_ids, valid_length, segment_ids, label) in enumerate(tqdm_notebook(test_dataloader)):\n",
    "        token_ids = token_ids.long().to(device)\n",
    "        segment_ids = segment_ids.long().to(device)\n",
    "        valid_length= valid_length\n",
    "        label = label.long().to(device)\n",
    "        out = model(token_ids, valid_length, segment_ids)\n",
    "        test_acc += calc_accuracy(out, label)\n",
    "        # test_f1 +=calc_f1(out, label)\n",
    "    print(f'epoch: {epoch} | test_acc: {test_acc / (batch_id+1)}')"
   ]
  },
  {
   "cell_type": "code",
   "execution_count": 127,
   "metadata": {},
   "outputs": [
    {
     "data": {
      "text/plain": [
       "<All keys matched successfully>"
      ]
     },
     "execution_count": 127,
     "metadata": {},
     "output_type": "execute_result"
    }
   ],
   "source": [
    "torch.save(model.state_dict(), \"news.pt\")\n",
    "modelload = BERT_Classifier(bertmodel,  dr_rate=0.1).to(device)\n",
    "modelload.load_state_dict(torch.load(\"news.pt\", device))"
   ]
  },
  {
   "cell_type": "code",
   "execution_count": 128,
   "metadata": {},
   "outputs": [],
   "source": [
    "def testModel(model, seq):\n",
    "    cate = ['up', 'down', 'same']\n",
    "    tmp = [seq]\n",
    "    transform = nlp.data.BERTSentenceTransform(tok, config['max_len'], pad=True, pair=False)\n",
    "    tokenized = transform(tmp)\n",
    "\n",
    "    modelload.eval()\n",
    "    result = model(torch.tensor([tokenized[0]]).to(device), [tokenized[1]], torch.tensor(tokenized[2]).to(device))\n",
    "    idx = result.argmax().cpu().item()\n",
    "    print(\"뉴스의 카테고리는:\", cate[idx])"
   ]
  },
  {
   "cell_type": "code",
   "execution_count": 178,
   "metadata": {},
   "outputs": [
    {
     "data": {
      "text/plain": [
       "\"'돈나무 언니'로 알려진 캐시 우드(Cathie Wood) 아크 인베스트먼트 최고경영자(CEO)는 지난 9일(현지시간) 아크 이노베이션 ETF(ARKK)에 테슬라 주식 약 2만 7,594주를 추가하고 코인베이스 주식은 지난 8일(현지시간) 42만 주, 9일(현지시간) 20만 7,527주 매수한 것으로 확인됐다.\""
      ]
     },
     "execution_count": 178,
     "metadata": {},
     "output_type": "execute_result"
    }
   ],
   "source": [
    "txt = df_summ['summary'][306]\n",
    "txt"
   ]
  },
  {
   "cell_type": "code",
   "execution_count": 179,
   "metadata": {},
   "outputs": [
    {
     "name": "stdout",
     "output_type": "stream",
     "text": [
      "뉴스의 카테고리는: up\n"
     ]
    }
   ],
   "source": [
    "testModel(model, txt)"
   ]
  },
  {
   "cell_type": "code",
   "execution_count": 155,
   "metadata": {},
   "outputs": [
    {
     "name": "stdout",
     "output_type": "stream",
     "text": [
      "애플이 한국코리아의 신임 사장으로 마크 리(Mark lee) 전 어플라이드 머티어리얼즈 코리아 대표를 선임한 것으로 밝혀졌다.\n",
      "한 달새 애플의 고위 임원 3명이 회사를 떠난 것으로 알려지면서 그 배경을 두고 관심이 쏠리고 있다.\n",
      "백승준 카카오페이 사업총괄 리더는 NFC 방식(의 카드단말기)를 쓰고 있는데 국내 오프라인 시장은 대부분 MTS 방식이어서 결제 디바이스를 NFC 방식으로 전환해야 하는 어려움이 있고 전환을 위해 상당한 비용이 소요되는 것으로 알고 있다며 애플페이의 국내 도입에 대해 \"예의주시하고 있다\"고 밝혔다.\n",
      "11월 1일 월스트리트저널(WSJ) 등 외신에 따르면 지난 주말 중국 허난성 정저우시 폭스콘 공장에서 탈출하는 것으로 추정되는 근로자의 모습이 담긴 동영상이 공개됐다.\n",
      "코로나19로 봉쇄된 중국 정저우 아이폰 조립 공장에서 탈출해 집으로 돌아가는 길에는 쓰레기가 산더미처럼 쌓여있고, 먹을 것조차 제대로 배급되지 않아 탈출극이 벌어졌다.\n"
     ]
    }
   ],
   "source": [
    "for i in range(5):\n",
    "    print(df_summ['summary'][i])"
   ]
  },
  {
   "cell_type": "code",
   "execution_count": 156,
   "metadata": {},
   "outputs": [
    {
     "name": "stdout",
     "output_type": "stream",
     "text": [
      "[윤구 대표 돌연 사임 후 1년 만에 공석 채워美 해군사관학교 출신 반도체 장비 전문가삼성전자, 영업 총괄 경험…韓 IT 이해 밝아애플코리아, 과다수수료 논란 등 숙제 ‘산더미’마크 리 신임 애플코리아 한국 사업 총괄 겸 사장. /링크드인 캡처        애플코리아가 한국 사업을 총괄하는 신임 사장으로 마크 리(Mark lee) 전 어플라이드 머티어리얼즈 코리아 대표를 선임한 것으로 확인됐다. 지난해 11월 윤구(브랜든 윤) 대표가 돌연 사임한 뒤 1년 만 공석이 채워지는 셈이다.1일 정보통신기술(ICT)업계에 따르면, 애플은 최근 마크 리 전 대표를 한국 영업을 총괄하는 국내 영업 총괄(사장)로 선임했다. 2018년 이후 현재까지 애플코리아의 법적 대표이사는 피터 덴우드다. 하지만 애플은 한국에서 실질적인 활동을 위해 국내 영업 총괄 사장이 제너럴 매니저(총괄적인 책임을 맡은 사람) 역할을 수행해왔다. 마크 리 대표는 애플코리아의 대표 역할을 수행한다.앞서 지난해 11월 삼성전자 출신의 윤구 대표가 일신상의 이유로 돌연 사임한 바 있다. 이후 애플코리아의 사장 자리는 1년간 공석이었다. 정치권에서는 인앱결제 이슈 등 국정감사나 정부의 조사 과정에서 책임을 지지 않기 위해 일부러 사장 자리를 공석으로 두는 게 아니냐는 지적도 나왔다.IT업계 관계자는 “마크 리는 오랜 기간 반도체 장비 업체에서 근무하면서 고객사인 삼성전자의 영업 총괄을 맡아 왔다”며 “누구보다 삼성과 한국에 대한 이해도가 높다”고 했다. 그는 “주한미국상공회의소(암참)에서도 활발히 활동해 국내 IT업계의 사정이나 인맥을 구축한 인물이다”라고 덧붙였다.마크 리 신임 사장은 반도체 장비 전문가다. 그는 1995년 미국 해군사관학교에서 기계공학 학사학위를 받고, 1995년부터 2000년까지 장교로 복무했다. 이후 2000년 미국 반도체 장비 노벨러스시스템즈(현재 램리서치와 합병)에 입사한 뒤, 2003년 어플라이드 머티어리얼즈로 이직했다. 이후 본사에서 전략적 사업 개발, 운영, 글로벌 책임자로 근무했다. 2020년부터 최근까지는 어플라이드 머티어리얼즈 코리아의 대표를 맡았다.마크 리는 지한파로도 유명하다. 오랜 기간 어플라이드 머티어리얼즈에서 삼성전자 영업 총괄을 맡아 애플의 경쟁사이면서 협력사인 삼성전자에 대한 이해도가 높다. 특히 마크 리 사장은 지난 7월 차세대 첨단 반도체 장비 연구개발(R&amp;D)센터를 건설하기 위해 경기도와 양해각서(MOU)를 체결하는 과정에서 직접 본사를 설득한 것으로 전해졌다.어플라이드 머티어리얼즈는 미국이 자랑하는 세계 반도체 장비 1위 기업이다. 증착, 식각, 급속 열처리, 이온 주입, 측정, 검사, 패키징 등 반도체 제조의 전 과정에 필요한 장비를 생산하고 있다. 시스템·메모리 반도체를 모두 생산하는 삼성전자의 주요 협력사이기도 하다.다만, 마크 리 사장이 해결해야 할 애플코리아의 숙제는 많다. 공정거래위원회는 지난 9월 인앱결제 과다 수수료 의혹과 관련해, 애플코리아 본사를 현장 조사하기도 했다. 지난달 국감에서도 인앱결제 문제가 집중포화를 맞았다. 또 삼성전자의 갤럭시플립4 등 폴더블(접는) 스마트폰 출시에 따른, 아이폰 고객 이탈도 대응할 필요가 있는 상황이다.]\n",
      "[온라인 스토어·정보시스템 부문 담당 부사장 잇따라 사임최근 한 달새 애플의 고위 임원 3명이 회사를 떠난 것으로 알려지면서 그 배경을 두고 관심이 쏠리고 있다.1일 블룸버그통신에 따르면 애플의 온라인 스토어 부문 부사장인 안나 마티아슨과 정보시스템 부문을 이끌고 있는 메리 뎀비 최고정보책임자(CIO)가 사임할 예정이다.마티아슨 부사장이 담당했던 애플의 온라인 스토어는 코로나19 팬데믹 속 중요한 판매 채널로 꼽힌다. 뎀비 CIO가 맡았던 정보시스템 사업부는 온라인 서비스, 제조, 홈페이지 운영 등의 기술 인프라를 총괄하고 있다.'애플 잠실' 전경 [사진=서민지 기자]두 사업 모두 애플의 핵심 분야로 꼽히는데, 이들의 사임으로 경영 전략에 변화가 생길 것으로 전망된다.마티아슨 부사장 후임은 디지털 경험 및 전자상거래를 담당하고 있는 카렌 라스무센 선임 이사가 맡을 예정이다. 뎀비 CIO 후임은 아직 정해지지 않았다.앞서 지난달에는 산업 디자인 담당 부사장인 에반스 행키가 회사를 떠난 바 있다. 애플은 한 달 만에 부사장 3명을 떠나보낸 셈이다.행키 부사장의 퇴사 이유는 알려지지 않았지만 업계에선 그가 전임자 아이브 만큼 인정을 받지 못한 것으로 해석하고 있다.]\n",
      "[ *재판매 및 DB 금지[서울=뉴시스] 남정현 기자 = 카카오페이 측이 애플페이의 국내 도입에 대해 \"예의주시하고 있다\"고 밝혔다. 백승준 카카오페이 사업총괄 리더는 1일 카카오페이 3분기 실적발표 콘퍼런스콜에서 이같이 말했다. 백승준 리더는 \"애플페이는 NFC 방식(의 카드단말기)를 쓰고 있는데 국내 오프라인 시장은 대부분 MTS 방식이어서 기본적으로 결제 디바이스를 NFC 방식으로 전환해야 하는 어려움이 있고 전환을 위해 상당한 비용이 소요되는 것으로 알고 있다\"며 \"이에 대해 카드사와 논의 중이라고는 하나 신규 결제 단말기를 보급하는 데 필요한 비용을 가맹점이 일부 또는 전부를 부담해야 된다\"고 지적했다. 그러면서 \"롱테일(소매) 가맹점까지 해당 NFC 방식 단말기를 적용하기는 어려워 모든 가맹점 적용이라는 범용성 확보 측면을 지속적으로 체크해야 할 것\"이라고 덧붙였다. 다만 \"애플페이 도입에 따른 영향을 단편적으로 경쟁 심화로 바라보는 시각도 있지만 장기적인 관점에서 살펴보면 변화와 혁신을 만들어 가는데 긍정적인 영향을 줄 수 있다고 판단하고 있다\"고 덧붙였다. 애플의 간편결제 시스템인 애플페이는 이르면 연내 국내에 도입될 것으로 알려졌다. 현대카드와 애플은 1년간 애플페이의 국내 배타적 사용권을 담은 계약을 진행한 것으로 전해진다. 국내 카드결제 단말기 대부분은 마그네틱 보안전송(MTS) 방식을 쓰는데 반해, 애플페이는 근거리무선통신(NFC) 방식의 단말기와 호환한다. 현재 국내에서 NFC 단말기를 통해 결제가 가능한 가맹점 수는 약 6~7만개 수준으로 알려졌다. 국내 신용카드 가맹점 수는 300만개에 이른다．]\n",
      "[중국 허난성 정저우시 폭스콘 노동자들로 추정되는 이들이 공장을 떠나 고속도로를 걸어 귀향하는 모습. 출처=중국 진르터우탸오 캡처. 중앙일보 [파이낸셜뉴스] 세계 최대 규모의 애플 아이폰 생산 공장인 중국 허난(河南)성 정저우(鄭州)시의 폭스콘 공장 노동자들이 탈출 행렬에 나서고 있다.   ‘제로 코로나’ 정책에 따라 정저우시 방역 당국이 공장 전체를 봉쇄했는데, 감염 우려와 열악한 근무 환경을 견디지 못한 노동자들이 ‘대탈출’을 벌이는 상황까지 벌어졌다.   11월 1일 월스트리트저널(WSJ) 등 외신에 따르면 지난 주말 더우인 등 중국 SNS에는 정저우 폭스콘 공장에서 탈출하는 것으로 추정되는 근로자의 모습이 담긴 동영상이 공개됐다. 공장 내 철조망을 넘어 걸어서 허난성 등지로 향하는 모습이다.   노동자들이 자신의 키보다 높은 철조망을 넘고, 한밤중에 짐가방을 끈 채 고속도로나 밀밭을 걷고 있다. 인근 주민들이 노동자들을 돕고자 도로 근처에 물병이나 식량 등을 놓아둔 모습이 담긴 사진과 영상도 올라왔다.    스티븐 맥도넬 BBC 중국 특파원이 중국 정저우 폭스콘 공장 근로자들이 탈출 중인 모습으로 보이는 영상을 공유했다. 코로나19 폐쇄 조치에 반발한 것으로 추정된다.출처=트위터  스티븐 맥도넬 BBC 중국 특파원이 중국 정저우 폭스콘 공장 근로자들이 탈출 중인 모습으로 보이는 영상을 공유했다. 코로나19 폐쇄 조치에 반발한 것으로 추정된다. 출처=트위터 이달 초 정저우가 위치한 중국 허난성에 코로나19로 인한 도시 폐쇄 정책이 장기화되면서 이를 버티지 못한 근로자들이 ‘대탈출’을 감행한 것으로 보인다고 매체는 전했다.   폭스콘 근로자들의 이동 거리는 공장 내 기숙사로 제한됐다. 식당이 폐쇄되고 도시락이 배급됐으나 이마저도 원활하지 않은 것으로 전해진다. 수일째 최소한의 빵·라면 등만 나눠주거나 이마저도 제대로 공급되지 않는 등 부실한 끼니가 이어지자 이를 참지 못한 노동자들이 공장 울타리를 넘어 무단 탈출해 고향을 향해 이동하기 시작한 것으로 알려졌다.   그러나 이들에겐 고향까지 갈 교통수단이 없어서 집까지 걸어서 갈 수밖에 없었다. 중국 환구시보는 폭스콘 근로자 3명이 최근 24시간을 걸어 허난성 덩펑(登封)시까지 왔다는 내용을 전했다.   중국 계면신문도 정저우 지역 주민을 인용해 “비가 내리는 데도 배낭을 메고 짐 가방을 끌며 길을 걷는 폭스콘 노동자들이 많다”며 “이 지역은 코로나19로 봉쇄돼 주민들이 보름째 바깥출입을 할 수 없어 도와줄 수가 없다”고 전했다.   노동자들의 모습이 SNS에 퍼지면서 중국 네티즌들 사이에선 이들의 무사 귀환을 기원하는 글과 함께 폭스콘 공장에 대한 비난이 쏟아졌다.   논란이 커지자 폭스콘 측은 30일 저녁 “직원들을 보호하는 것이 그룹 경영의 첫 번째 원칙”이라며 “공장 내 7곳에 버스 정류장을 마련해 귀향을 원하는 노동자에게 순차적으로 버스 등 교통편을 제공하겠다”고 약속했다. 정저우시 당국도 “폭스콘 측이 정부와 협력해 코로나19 방역에 협력하고 있으며 현재 상황이 점차 통제되고 있다”고 밝혔다.   한편 이번 집단 탈출 사태는 애플과 중국에 경제적 타격을 줄 수 있다는 전망이 나오고 있다.   업계는 정저우 공장에서 노동자가 대거 이탈하는 등 문제가 발생하면서 다음 달 애플의 아이폰 출하량이 30% 감소할 수 있다고 분석했다. #중국 #제로코로나 #애플공장 #대탈출  ]\n",
      "[공장 노동자들이 폐쇄된 출입문을 뚫고 쏟아져 나갑니다.일부는 외곽 철조망을 넘습니다.운 좋은 사람들은 대형화물차 짐칸을 얻어탔지만, 대부분은 여행 가방을 끌고 수십 킬로미터를 하루고 이틀이고 걸었습니다. 코로나19로 봉쇄된 중국 정저우 아이폰 조립 공장에서 탈출해 집으로 돌아가는 길입니다. 수많은 중국인들은 80년 전 '허난성 대기근'을 떠올렸습니다.[중국 정저우 아이폰 공장 노동자 : 115km에서 검문소를 만나 50km를 돌아갔어요. 꼬박 하루 밤낮을 걸었어요. 눈물겹죠? 영화 '1942'가 떠오릅니다.]앞서 정저우 공장을 운영하는 타이완 업체 폭스콘은 코로나19 감염자가 일부 나오긴 했지만, 생산은 안정적이라고 밝혔습니다.특히 인터넷에서 떠도는 2만 명 감염설은 엄중한 거짓말이라고 반박하기도 했습니다.그러나 내부 노동자들이 전한 실상은 달랐습니다.공장 곳곳에 쓰레기가 산더미처럼 쌓여있고, 코로나19 확산 공포 속에 먹을 것조차 제대로 배급되지 않아서 탈출극이 벌어졌다는 겁니다.[중국 정저우 아이폰 공장 노동자 : 어제는 빵 2개가 전부였습니다. PCR 검사를 하러 오지도 않아요.][중국 정저우 아이폰 공장 노동자 : 열이 39.3도까지 올랐는데 아무도 신경 쓰지 않습니다. 폭스콘은 우리의 생사에 관심이 없어요.]30만 명 넘게 일하고 있는 폭스콘 정저우 공장은 세계 아이폰 출하량의 절반을 생산합니다.올 연말 신형 아이폰14 출하량의 30%가 줄어들 수 있다는 전망이 나옵니다.애플 주가는 물론 기업 이미지에도 빨간불이 켜졌습니다.베이징에서 YTN 강정규입니다.]\n"
     ]
    }
   ],
   "source": [
    "for i in range(5):\n",
    "    print(df_summ['content'][i])"
   ]
  },
  {
   "cell_type": "code",
   "execution_count": null,
   "metadata": {},
   "outputs": [],
   "source": []
  }
 ],
 "metadata": {
  "kernelspec": {
   "display_name": "Python 3.9.15 ('sibal': conda)",
   "language": "python",
   "name": "python3"
  },
  "language_info": {
   "codemirror_mode": {
    "name": "ipython",
    "version": 3
   },
   "file_extension": ".py",
   "mimetype": "text/x-python",
   "name": "python",
   "nbconvert_exporter": "python",
   "pygments_lexer": "ipython3",
   "version": "3.9.15"
  },
  "orig_nbformat": 4,
  "vscode": {
   "interpreter": {
    "hash": "ea859f9f3d888f24b223535478a1fcb5056b185725e69288929cb7bd9a6c63d1"
   }
  }
 },
 "nbformat": 4,
 "nbformat_minor": 2
}
